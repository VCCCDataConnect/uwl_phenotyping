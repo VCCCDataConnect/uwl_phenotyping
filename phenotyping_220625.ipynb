{
 "cells": [
  {
   "cell_type": "markdown",
   "id": "4cc112db-84c3-4cc9-aca0-e98654538cf9",
   "metadata": {},
   "source": [
    "# UWL phenotyping: comparison of ML algorithms\n",
    "\n",
    "Updated 22 06 25\n",
    "\n",
    "This notebook contains the code for training and testing models for predicting which patients have unintended weight loss, using the reasons for encounter fields.\n",
    "\n",
    "## Structure of this notebook\n",
    "\n",
    "1) **Load the datasets** that have been extracted from the Patron and MedicineInsight Primary Care databases\n",
    "2) **Combine data sources**\n",
    "3) Define functions that are useful for **processing data, evaluating models and compute bootstrap estimates**\n",
    "4) Apply **data transformations**\n",
    "5) Create **training and test datasets**\n",
    "6) The various **ML models to train and test** and compare against each other (Naive Bayes, Decision Trees, Random Forests, Logistic Regression, ClinicalBERT, simple rule-based algorithm)\n",
    "\n",
    "Note that we did not consider machine learning models that use multiple events in the patients' medical records, only performing text classification on the likely candidate for the index event. As a result we did not consider algorithms such as Deep Patient or Phe2Vec.\n",
    "\n",
    "## Performance measures\n",
    "\n",
    "We compute point estimates and 95% confidence intervals for AUC, PPV, NPV, Sensitivity and Specificity, along with ROC curves. These are computed for the entire dataset and also for male and female subgroups.\n",
    "\n",
    "## Data sources\n",
    "\n",
    "Two primary care databases were used in this project:\n",
    "1) MedicineWise MedicineInsight to train models\n",
    "2) Patron for validation."
   ]
  },
  {
   "cell_type": "code",
   "execution_count": null,
   "id": "284c9c17-eda2-4e4c-8c76-6eeefdc28ab2",
   "metadata": {},
   "outputs": [],
   "source": [
    "import pandas as pd\n",
    "import numpy as np\n",
    "import seaborn as sns\n",
    "import matplotlib.pyplot as plt\n",
    "\n",
    "from sklearn.metrics import confusion_matrix, recall_score, precision_score, f1_score, accuracy_score, roc_curve, roc_auc_score\n",
    "from tqdm import tqdm\n",
    "\n",
    "%matplotlib inline\n",
    "sns.set()"
   ]
  },
  {
   "cell_type": "markdown",
   "id": "2a85e95d-f223-4424-8729-2477a85af47a",
   "metadata": {},
   "source": [
    "# 1. Load data"
   ]
  },
  {
   "cell_type": "code",
   "execution_count": null,
   "id": "f098c6e9-2d67-44c3-90ef-56b4f64e5ba5",
   "metadata": {},
   "outputs": [],
   "source": [
    "folder = '/Users/alexlee/Desktop/Projects/data_connect/uwl_phenotyping/data'"
   ]
  },
  {
   "cell_type": "markdown",
   "id": "49e7124b-2166-4314-bed1-3128403b8889",
   "metadata": {},
   "source": [
    "## 1.1. Datasets without gender variable"
   ]
  },
  {
   "cell_type": "markdown",
   "id": "65201a18-7278-445d-9bb4-fb5f8c22a02e",
   "metadata": {},
   "source": [
    "### 1.1.1. MedicineInsight data"
   ]
  },
  {
   "cell_type": "code",
   "execution_count": 110,
   "id": "a9f7bc6d-9faf-48da-b777-303a2d9b22e3",
   "metadata": {},
   "outputs": [],
   "source": [
    "# medicineinsight data\n",
    "df_nps = (\n",
    "    pd.read_csv(f'{folder}/medicine_insight/labels_gold_030323.csv')\n",
    "    .assign(label=lambda df_: df_.label.astype(int))\n",
    "    .rename(columns={'reason': 'text'})\n",
    "    .assign(data_source='medicineinsight')\n",
    ")"
   ]
  },
  {
   "cell_type": "markdown",
   "id": "f5fc99f3-7167-4118-b028-73cd68dda8b6",
   "metadata": {},
   "source": [
    "### 1.1.2. Patron data\n"
   ]
  },
  {
   "cell_type": "code",
   "execution_count": 111,
   "id": "f3c4647c-b021-4c16-8fa4-6294e6f5f429",
   "metadata": {},
   "outputs": [],
   "source": [
    "# 1: Javi's labelling\n",
    "# 2: Lucas's labelling\n",
    "# 3: labellling disagreements\n",
    "df_patron1 = (\n",
    "    pd.read_excel(f'{folder}/patron_310523/patron_labelling_workbook_210323_060723.xlsx', sheet_name='Labels_JMG')\n",
    "    .loc[:, ['text', 'label']]\n",
    ")\n",
    "             \n",
    "df_patron2 = (\n",
    "        pd.read_excel(f'{folder}/patron_310523/patron_labelling_workbook_210323_060723.xlsx', sheet_name='Labels_LDM')\n",
    "        .loc[:, ['text', 'label']]\n",
    ")\n",
    "\n",
    "df_patron3 = (\n",
    "    pd.read_csv(f'{folder}/patron_310523/label_disagreements_jmg_ldm_080623.csv')\n",
    "    .loc[:, ['text', 'label_jmg', 'label_ldm', 'label_al']]\n",
    ")\n",
    "\n",
    "#df_patron"
   ]
  },
  {
   "cell_type": "code",
   "execution_count": 112,
   "id": "a3ba4f53-1329-4087-86f4-789ee3ca8174",
   "metadata": {},
   "outputs": [],
   "source": [
    "# patron tidy up\n",
    "df_patron12 = pd.concat(\n",
    "    [\n",
    "        df_patron1.rename(columns={'label': 'label_jmg'}), \n",
    "        df_patron2.rename(columns={'label': 'label_ldm'}).loc[:, 'label_ldm']\n",
    "    ], \n",
    "    axis=1\n",
    ")\n",
    "\n",
    "df_patron = pd.concat(\n",
    "    [\n",
    "        df_patron12.query('label_jmg == label_ldm').rename(columns={'label_jmg': 'label'}).loc[:, ['text', 'label']],\n",
    "        df_patron3.rename(columns={'label_al': 'label'}).loc[:, ['text', 'label']]\n",
    "    ],\n",
    "    axis=0\n",
    ").assign(data_source=\"patron\")\n",
    "\n",
    "df_patron = df_patron.assign(label=lambda df_: df_.label.astype(str).str.replace('?', '-1').astype(int)).query('label != -1')"
   ]
  },
  {
   "cell_type": "markdown",
   "id": "9c644258-485d-44d8-93a2-7a54db6b0042",
   "metadata": {},
   "source": [
    "## 1.2. Datasets with gender variable\n",
    "\n",
    "- 1: Female\n",
    "- 2: Male"
   ]
  },
  {
   "cell_type": "code",
   "execution_count": 113,
   "id": "a1c70f86-6a43-4ebb-9f7e-07e692516c76",
   "metadata": {},
   "outputs": [],
   "source": [
    "df_nps_gender = pd.read_csv('../data/latest_export_300525/labelled_texts_nps_g.csv').assign(source='nps')\n",
    "\n",
    "# validation data exludes those patients who are common to both nps and patron\n",
    "df_val_gender = pd.read_csv('../data/latest_export_300525/labelled_texts_val_g.csv').assign(source='patron')\n",
    "df_all_gender = pd.concat([df_nps_gender, df_val_gender]).reset_index().iloc[:, 1:]"
   ]
  },
  {
   "cell_type": "markdown",
   "id": "421c30a3-27a0-4436-b89e-37326a5e3cc0",
   "metadata": {},
   "source": [
    "## 1.3. Stats on the labelling datasets"
   ]
  },
  {
   "cell_type": "code",
   "execution_count": 114,
   "id": "8bbef388-417b-479a-bde7-a778ad5444d4",
   "metadata": {},
   "outputs": [
    {
     "data": {
      "text/plain": [
       "2462"
      ]
     },
     "execution_count": 114,
     "metadata": {},
     "output_type": "execute_result"
    }
   ],
   "source": [
    "# NPS: number of distinct texts\n",
    "df_nps_gender.value.unique().shape[0]"
   ]
  },
  {
   "cell_type": "code",
   "execution_count": 115,
   "id": "7f567e13-153e-4bdb-9d52-21ffc13a678e",
   "metadata": {},
   "outputs": [],
   "source": [
    "# NPS: number of each label"
   ]
  },
  {
   "cell_type": "code",
   "execution_count": 116,
   "id": "d04fc668-0a0c-4aec-8221-8f70e1e248a5",
   "metadata": {},
   "outputs": [
    {
     "data": {
      "text/plain": [
       "770"
      ]
     },
     "execution_count": 116,
     "metadata": {},
     "output_type": "execute_result"
    }
   ],
   "source": [
    "# validation: number of distinct texts\n",
    "df_val_gender.value.unique().shape[0]"
   ]
  },
  {
   "cell_type": "code",
   "execution_count": 117,
   "id": "fc2f0c16-8d80-474b-bf81-671bf99418cd",
   "metadata": {},
   "outputs": [
    {
     "data": {
      "text/plain": [
       "3101"
      ]
     },
     "execution_count": 117,
     "metadata": {},
     "output_type": "execute_result"
    }
   ],
   "source": [
    "# total: number of distinct texts\n",
    "pd.concat([df_nps_gender, df_val_gender]).value.unique().shape[0]"
   ]
  },
  {
   "cell_type": "code",
   "execution_count": 118,
   "id": "dfb41f6a-68b9-4f2d-82f6-6559314d3064",
   "metadata": {},
   "outputs": [
    {
     "data": {
      "text/plain": [
       "639"
      ]
     },
     "execution_count": 118,
     "metadata": {},
     "output_type": "execute_result"
    }
   ],
   "source": [
    "# number of unseen texts in validation dataset\n",
    "pd.concat([df_nps_gender, df_val_gender]).value.unique().shape[0] - df_nps_gender.value.unique().shape[0]"
   ]
  },
  {
   "cell_type": "code",
   "execution_count": 119,
   "id": "1fdfbde0-71b4-4244-8259-4767933bb3ae",
   "metadata": {},
   "outputs": [
    {
     "data": {
      "text/plain": [
       "label2\n",
       "2    346\n",
       "1    227\n",
       "3    197\n",
       "Name: count, dtype: int64"
      ]
     },
     "execution_count": 119,
     "metadata": {},
     "output_type": "execute_result"
    }
   ],
   "source": [
    "df_val_gender.loc[:, ['value', 'label2']].drop_duplicates().label2.value_counts()"
   ]
  },
  {
   "cell_type": "markdown",
   "id": "5b34d713-cfa8-45a6-b9d3-4f9974f03823",
   "metadata": {},
   "source": [
    "# 2. Combine datasets"
   ]
  },
  {
   "cell_type": "markdown",
   "id": "c2832835-3258-4cf2-955e-7ca7cc12814f",
   "metadata": {},
   "source": [
    "## 2.1. Patron data tidy up\n",
    "\n",
    "Create a gold standard dataset that combine the agreed and disagreed labels"
   ]
  },
  {
   "cell_type": "code",
   "execution_count": 120,
   "id": "e8f8c4fa-4cd0-4be1-9fca-ed36c136074e",
   "metadata": {},
   "outputs": [],
   "source": [
    "# patron data from first two labellers\n",
    "df_patron12 = pd.concat(\n",
    "    [\n",
    "        df_patron1.rename(columns={'label': 'label_jmg'}), \n",
    "        df_patron2.rename(columns={'label': 'label_ldm'}).loc[:, 'label_ldm']\n",
    "    ], \n",
    "    axis=1\n",
    ")"
   ]
  },
  {
   "cell_type": "code",
   "execution_count": 121,
   "id": "41129deb-e3b2-4b77-8b70-0705279a28e8",
   "metadata": {},
   "outputs": [],
   "source": [
    "# patron data from all three labellers\n",
    "df_patron = pd.concat(\n",
    "    [\n",
    "        df_patron12.query('label_jmg == label_ldm').rename(columns={'label_jmg': 'label'}).loc[:, ['text', 'label']],\n",
    "        df_patron3.rename(columns={'label_al': 'label'}).loc[:, ['text', 'label']]\n",
    "    ],\n",
    "    axis=0\n",
    ").assign(data_source=\"patron\")\n",
    "\n",
    "df_patron = df_patron.assign(label=lambda df_: df_.label.astype(str).str.replace('?', '-1').astype(int)).query('label != -1')"
   ]
  },
  {
   "cell_type": "markdown",
   "id": "6d63d766-96cc-40b8-b5b2-8feadb002925",
   "metadata": {},
   "source": [
    "## 2.2. Combine MedicineInsight and Patron"
   ]
  },
  {
   "cell_type": "code",
   "execution_count": 122,
   "id": "c4531b3d-0818-4681-bdee-1ee4c0a76031",
   "metadata": {},
   "outputs": [],
   "source": [
    "df_all = (\n",
    "    pd.concat([df_patron, df_nps])\n",
    "    .assign(label=lambda df_: df_.label.map({1: 1, 2: 2, 3: 3, 4: 3}))\n",
    "    .assign(label_binary=lambda df_: df_.label.map({1:1, 2: 1, 3: 0}))\n",
    ")"
   ]
  },
  {
   "cell_type": "markdown",
   "id": "08991d4a-de23-4b73-b196-78f432ca9235",
   "metadata": {},
   "source": [
    "# 3. Utility functions"
   ]
  },
  {
   "cell_type": "markdown",
   "id": "bb42980e-ae4e-4f33-9705-4f517c86ee09",
   "metadata": {},
   "source": [
    "## 3.1. Text processing\n",
    "\n",
    "From: https://github.com/VCCCDataConnect/uwl/blob/main/phenotyping/4_uwl_phenotype_patron_rule_based.ipynb"
   ]
  },
  {
   "cell_type": "code",
   "execution_count": 123,
   "id": "965e8f5f-ed2d-4fa2-aeac-56c88d0e8f71",
   "metadata": {},
   "outputs": [],
   "source": [
    "def preprocess_text(texts):\n",
    "    \"\"\"\n",
    "    Preprocessing of strings from encounter reasons to ensure\n",
    "    relevant non-alphanumeric characters are treated as tokens\n",
    "    and others are removed.\n",
    "    \n",
    "    Parameters\n",
    "    ----------\n",
    "    texts : pd.Series, list, np.array \n",
    "        input reasons for encounter texts \n",
    "    \n",
    "    Returns\n",
    "    -------\n",
    "    texts : pd.Series \n",
    "        the processed text after applying transformations\n",
    "    \"\"\"\n",
    "    weight_measurement_pattern2 = r'([0-9]+\\s{0,1}kg)'\n",
    "    weight_measurement_pattern1 = r'([0-9]+\\.[0-9]+\\s{0,1}kg)'\n",
    "    weight_measurement_pattern = r'|'.join([weight_measurement_pattern1, weight_measurement_pattern2])\n",
    "    \n",
    "    number_pattern = r'([0-9]+)'\n",
    "    months_pattern = r'([0-9]+)\\s{0,1}\\/\\s{0,1}12'\n",
    "    weeks_pattern = r'([0-9]+)\\s{0,1}\\/\\s{0,1}52'\n",
    "    days_pattern = r'([0-9]+)\\s{0,1}\\/\\s{0,1}7'\n",
    "    \n",
    "    token_pattern = r'([\\!\\/\\?\\+\\<\\>])'\n",
    "    remove_pattern = r'[\\.\\,\\;\\:\\-]'\n",
    "\n",
    "    texts = (\n",
    "        pd.Series(texts)\n",
    "        .str.lower()\n",
    "        .str.replace(weeks_pattern, r'\\1 weeks', regex=True)\n",
    "        .str.replace(days_pattern, r'\\1 days', regex=True)\n",
    "        .str.replace(months_pattern, r'\\1 months', regex=True)\n",
    "        .str.replace(weight_measurement_pattern, '[weight_measurement]', regex=True)\n",
    "        .str.replace(number_pattern, '[number_value]', regex=True)\n",
    "        .str.replace(token_pattern, r' \\1 ', regex=True)\n",
    "        .str.replace(remove_pattern, ' ', regex=True)\n",
    "        .str.replace('[ ]+', ' ', regex=True)\n",
    "        .str.strip()\n",
    "    )\n",
    "    \n",
    "    return texts\n",
    "\n",
    "# define the tokenizer for the text\n",
    "def custom_tokenizer(text):\n",
    "    return re.findall(r\"\\b\\w+\\b|[!?]+\", text)  # includes words and any sequence of ! or ?"
   ]
  },
  {
   "cell_type": "markdown",
   "id": "d9047f2c-619d-49de-86b0-210da21aaa39",
   "metadata": {},
   "source": [
    "## 3.2. Bootstrap functions\n",
    "\n",
    "- Create bootstrap samples\n",
    "- Estimate confidence intervals\n",
    "- Do this for sensitivity, specificity, ppv, npv, auc"
   ]
  },
  {
   "cell_type": "code",
   "execution_count": 124,
   "id": "78d5b1ec-0bd3-4652-add8-cabd441d2462",
   "metadata": {},
   "outputs": [],
   "source": [
    "def calculate_bootstrap_samples(sample, num_bootstrap_samples):\n",
    "    sample = np.array(sample)\n",
    "    indices = np.arange(0, len(sample))\n",
    "    bootstrap_samples = [sample[np.random.choice(indices, len(indices))] for _ in range(num_bootstrap_samples)]\n",
    "    return bootstrap_samples\n",
    "\n",
    "#def calculate_bootstrap_ci(sample, statistic='ppv', num_bootstrap_samples=1024, ci=0.95):\n",
    "#    bootstrap_samples = calculate_bootstrap_samples(sample, num_bootstrap_samples)"
   ]
  },
  {
   "cell_type": "code",
   "execution_count": 125,
   "id": "83890ace-6d98-4155-941b-29a17ca93ea0",
   "metadata": {},
   "outputs": [],
   "source": [
    "def calculate_ci(estims, ci=0.95):\n",
    "    estims.sort()\n",
    "    L = len(estims)\n",
    "    interval = (1-ci) / 2\n",
    "    lower_bound = int(interval*L)\n",
    "    upper_bound = int((1-interval)*L)\n",
    "    return np.mean(estims).item(), estims[lower_bound], estims[upper_bound]\n",
    "\n",
    "\n",
    "# calculate the performance stats using bootstrap\n",
    "def calculate_bootstrap_ci(sample, \n",
    "                           num_bootstrap_samples=1024, \n",
    "                           ci=0.95, \n",
    "                           threshold=0.5):\n",
    "    \"\"\"\n",
    "    Calculate confidence intervals for AUC, PPV, NPV, specificity and sensitivity\n",
    "    based on a given dataset for a model\n",
    "\n",
    "    Parameters\n",
    "    ----------\n",
    "    model (sklearn.pipeline) : the model that we are making predictions for\n",
    "    sample (list of triplets of (y, y_probs) values) : the sample to calculate bootstrap samples from\n",
    "    huggingface_model (bool) : whether model is a HF one or sklearn\n",
    "    num_bootstrap_samples (int, default=1024) : number of bootstrap iterations to use\n",
    "    ci (float, default=0.95) : confidence interval \n",
    "    threshold (float, default=0.5) : threshold used to calculate ppv, npv, sensitivity and specificity\n",
    "\n",
    "    Returns\n",
    "    -------\n",
    "    results (dict) : stores all the results from the boostrap samples\n",
    "    \"\"\"\n",
    "    # compute bootstrap sample datsets\n",
    "    bootstrap_samples = calculate_bootstrap_samples(sample, num_bootstrap_samples)\n",
    "\n",
    "    # initialise the lists to store stats\n",
    "    auc_vals = []\n",
    "    sensitivity_vals = []\n",
    "    specificity_vals = []\n",
    "    ppv_vals = []\n",
    "    npv_vals = []\n",
    "\n",
    "    print(f\"Calculating bootstrap estimates for {num_bootstrap_samples} bootstrap samples\")\n",
    "\n",
    "    # for each of the bootstrap datasets compute performance stats\n",
    "    for n, bootstrap_sample in enumerate(tqdm(bootstrap_samples, desc=\"Calculating estimates\")):\n",
    "        y, y_probs = zip(*bootstrap_sample)\n",
    "        \n",
    "        y_preds = (np.array(y_probs) > threshold).astype(int)\n",
    "            \n",
    "        # Compute ROC curve\n",
    "        fpr, tpr, thresholds = roc_curve(y, y_probs)\n",
    "        tn, fp, fn, tp = confusion_matrix(y, y_preds).ravel()\n",
    "        \n",
    "        sens, spec = tp / (tp + fn), tn / (tn + fp)\n",
    "        ppv, npv = tp / (tp + fp), tn / (tn + fn)\n",
    "        \n",
    "        # Compute AUC\n",
    "        roc_auc = auc(fpr, tpr)\n",
    "        \n",
    "        auc_vals.append(roc_auc.item())\n",
    "        sensitivity_vals.append(sens)\n",
    "        specificity_vals.append(spec)\n",
    "        ppv_vals.append(ppv)\n",
    "        npv_vals.append(npv)\n",
    "        \n",
    "    # calculate 95% CI\n",
    "    ci_auc = calculate_ci(auc_vals)\n",
    "    ci_ppv = calculate_ci(ppv_vals)\n",
    "    ci_npv = calculate_ci(npv_vals)\n",
    "    ci_sens = calculate_ci(sensitivity_vals)\n",
    "    ci_spec = calculate_ci(specificity_vals)\n",
    "\n",
    "    return {'auc': ci_auc, 'ppv': ci_ppv, 'npv': ci_npv, 'sensitivity': ci_sens, 'specificity': ci_spec}"
   ]
  },
  {
   "cell_type": "markdown",
   "id": "704dcbe4-a311-4a29-b305-d42c1e31f8d8",
   "metadata": {},
   "source": [
    "## 3.3. ML training pipeline\n",
    "\n",
    "Given an ML pipeline (data transformation and an ML model), training and test sets:\n",
    "- Fit the pipeline\n",
    "- Estimate the performance of the model on the test data\n",
    "- Put the results in a dataframe\n",
    "- Calculate the ROC curves\n",
    "- Plot the results"
   ]
  },
  {
   "cell_type": "code",
   "execution_count": 126,
   "id": "aa34ef03-871e-48c7-b0f6-5fb663e19779",
   "metadata": {},
   "outputs": [],
   "source": [
    "def run_performance_estimate_pipeline(pipeline, \n",
    "                                      X_train, \n",
    "                                      y_train, \n",
    "                                      X_test,\n",
    "                                      y_test,\n",
    "                                      cv=10, \n",
    "                                      scoring=['precision', 'recall', 'f1', 'roc_auc'], \n",
    "                                      num_bootstrap_samples=1024, \n",
    "                                      ci=0.95):\n",
    "    \"\"\"\n",
    "    Train the model and evaluate a given model\n",
    "\n",
    "    Parameters\n",
    "    ----------\n",
    "    pipeline (sklearn.pipeline.Pipeline) : the modelling pipeline\n",
    "    X_train (np.array) : training features\n",
    "    Y_train (np.array) : training labels\n",
    "    X_test (np.array) : test features\n",
    "    y_test (np.array) : test labels\n",
    "    cv (int, default=10) : number of cross-validation splits\n",
    "    scoring (list of str) : list of scoring metrics\n",
    "    num_bootstrap_samples (int) : number of bootstrap samples\n",
    "    ci (float, default=0.95) : number between 0 and 1 for the % confidence interval\n",
    "\n",
    "    Return\n",
    "    ------\n",
    "    df_results (pd.DataFrame) : dataframe with results from scoring metrics\n",
    "    fpr (list of float) : false positive rates\n",
    "    tpr (list of float) : true positive rates\n",
    "    thresholds (list of float) : thresholds\n",
    "    \"\"\"\n",
    "    # fit the model\n",
    "    pipeline.fit(X_train, y_train)\n",
    "\n",
    "    # calculate the results on the test dataset\n",
    "    probs_test = pipeline.predict_proba(X_test)\n",
    "    sample = list(zip(y_test, probs_test[:, 1]))\n",
    "    \n",
    "    results = calculate_bootstrap_ci(sample, \n",
    "                                     num_bootstrap_samples=num_bootstrap_samples, \n",
    "                                     ci=ci)\n",
    "    \n",
    "    # put the results in a dataframe\n",
    "    df_results = pd.DataFrame(results).T.rename(columns={0: 'mean', \n",
    "                                                         1: 'left_ci', \n",
    "                                                         2: 'right_ci'})\n",
    "    df_results.index.name = 'metric'\n",
    "    df_results.reset_index(inplace=True)\n",
    "    \n",
    "    # calculate ROC curves\n",
    "    fpr, tpr, threshold = roc_curve(y_test, probs_test[:, 1])\n",
    "\n",
    "    return df_results, fpr, tpr, threshold"
   ]
  },
  {
   "cell_type": "code",
   "execution_count": 127,
   "id": "d94d373f-9bcc-436f-96fe-e2473f091291",
   "metadata": {},
   "outputs": [],
   "source": [
    "def plot_results(df_results, title):\n",
    "    \"\"\"\n",
    "    Plot the point estimates and CI's\n",
    "\n",
    "    Parameters\n",
    "    ----------\n",
    "    df_results (pd.DataFrame) : contains the results\n",
    "    title (str) : the title of the plot\n",
    "\n",
    "    Return\n",
    "    ------\n",
    "    fig (matplotlib.figure.Figure) : resulting figure summarising results\n",
    "    \"\"\"\n",
    "\n",
    "    # Create figure and axis\n",
    "    sns.set(style='white')\n",
    "    fig, ax = plt.subplots(figsize=(6, 4))\n",
    "    \n",
    "    # Loop through each row to plot\n",
    "    for i, row in df_results.iterrows():\n",
    "        ax.plot([row['left_ci'], row['right_ci']], [row['metric']] * 2, color='gray', lw=2)\n",
    "        ax.plot(row['mean'], row['metric'], 'd', color='blue')\n",
    "    \n",
    "    # Optional: aesthetics\n",
    "    ax.set_xlabel('Score')\n",
    "    ax.set_xlim(0, 1)\n",
    "    ax.set_title('Mean and 95% CI for Naive Bayes')\n",
    "    plt.tight_layout()\n",
    "    \n",
    "    return fig, ax"
   ]
  },
  {
   "cell_type": "markdown",
   "id": "c0756099-aa04-4e0c-a562-e27e1471c510",
   "metadata": {},
   "source": [
    "# 4. Apply data transformations\n",
    "\n",
    "Apply text processing to the nps and patron data"
   ]
  },
  {
   "cell_type": "code",
   "execution_count": 128,
   "id": "59cb04d7-801b-4af8-9c0e-eafc40571629",
   "metadata": {},
   "outputs": [],
   "source": [
    "df_all = (\n",
    "    df_all\n",
    "    .assign(text_processed=lambda df_: df_.text.apply(preprocess_text))\n",
    ")\n",
    "\n",
    "#\n",
    "df_all_gender = (\n",
    "    df_all_gender\n",
    "    .assign(text_processed=lambda df_: df_.value.apply(preprocess_text),\n",
    "            text=lambda df_: df_.value,\n",
    "            gender=lambda df_: df_.label1,\n",
    "            label=lambda df_: df_.label2,\n",
    "            label_binary=lambda df_: df_.label3.fillna(1))\n",
    "    .loc[:, ['text', 'text_processed', 'gender', 'label', 'label_binary', 'source']]\n",
    ")"
   ]
  },
  {
   "cell_type": "markdown",
   "id": "63d3f93f-92e7-4b51-b60b-7e10b4aa58cf",
   "metadata": {},
   "source": [
    "## 4.1. Write the intermediary datasets"
   ]
  },
  {
   "cell_type": "code",
   "execution_count": 129,
   "id": "54a3a0fc-4217-479f-ac40-aae4dea5db1a",
   "metadata": {},
   "outputs": [],
   "source": [
    "# data with gender\n",
    "#df_all_gender.to_csv('/Users/alexlee/Desktop/Projects/data_connect/uwl_phenotyping/data/reasons_with_gender_cleaned_010625.csv', index=False)"
   ]
  },
  {
   "cell_type": "code",
   "execution_count": 130,
   "id": "e525e15d-65c0-4564-b108-dd72c1e8146d",
   "metadata": {},
   "outputs": [],
   "source": [
    "# all gender\n",
    "#df_all.to_csv('/Users/alexlee/Desktop/Projects/data_connect/uwl_phenotyping/data/reasons_cleaned_230325.csv', index=False)"
   ]
  },
  {
   "cell_type": "markdown",
   "id": "5f8a254c-adaa-44c7-abf2-4b2016c85681",
   "metadata": {},
   "source": [
    "# 5. Create training and test datasets\n",
    "\n",
    "Two options:\n",
    "- Create training and test sets from the larger data without gender labels\n",
    "- Create training and test sets for males and females separately"
   ]
  },
  {
   "cell_type": "markdown",
   "id": "80f1dc78-91ec-4303-9c56-d00efc125330",
   "metadata": {},
   "source": [
    "## 5.1. Non-gender specific data"
   ]
  },
  {
   "cell_type": "code",
   "execution_count": 131,
   "id": "f6b205da-43af-4181-8086-28e620656891",
   "metadata": {},
   "outputs": [],
   "source": [
    "# train on nps and test on patron\n",
    "#df_train = df_all.query('data_source==\"medicineinsight\"')\n",
    "#df_test = df_all.query('data_source==\"patron\"')\n",
    "\n",
    "# for testing performance with gender\n",
    "df_train = df_all_gender.query('source == \"nps\"')\n",
    "df_test = df_all_gender.query('source == \"patron\"')\n",
    "\n",
    "# for testing performance ignoring gender\n",
    "df_train_all = df_train.loc[:, ['text', 'label', 'label_binary', 'source', 'text_processed']].drop_duplicates()\n",
    "df_test_all = df_test.loc[:, ['text', 'label', 'label_binary', 'source', 'text_processed']].drop_duplicates()"
   ]
  },
  {
   "cell_type": "markdown",
   "id": "70a3bf5f-4e11-4fe4-a7e1-41ed9de8e90b",
   "metadata": {},
   "source": [
    "## 5.2. Include gender\n",
    "\n",
    "Train on the whole dataset and then test on the 'gendered' test datasets"
   ]
  },
  {
   "cell_type": "code",
   "execution_count": 132,
   "id": "f2faf1a1-0ac0-4b4a-bb46-977a6605e4bf",
   "metadata": {},
   "outputs": [],
   "source": [
    "#df_train_m = df_train.query('gender == 1').loc[:, ['text', 'label', 'label_binary', 'source', 'text_processed']].drop_duplicates()\n",
    "#df_train_f = df_train.query('gender == 2').loc[:, ['text', 'label', 'label_binary', 'source', 'text_processed']].drop_duplicates()\n",
    "\n",
    "df_test_f = df_test.query('gender == 1').loc[:, ['text', 'label', 'label_binary', 'source', 'text_processed']].drop_duplicates()\n",
    "df_test_m = df_test.query('gender == 2').loc[:, ['text', 'label', 'label_binary', 'source', 'text_processed']].drop_duplicates()"
   ]
  },
  {
   "cell_type": "code",
   "execution_count": 133,
   "id": "5919dcfd-18e7-48d5-8cfe-230fb08a7a7d",
   "metadata": {},
   "outputs": [],
   "source": [
    "# create training and testing datasets for entire cohort and broken down by gender\n",
    "X_both_train, y_both_train, y_both_train_binary = (\n",
    "    df_train_all.text_processed.values, \n",
    "    df_train_all.label.astype(int).values, \n",
    "    df_train_all.label_binary.astype(int).values\n",
    ")\n",
    "\n",
    "X_both_test, y_both_test, y_both_test_binary = (\n",
    "    df_test_all.text_processed.values, \n",
    "    df_test_all.label.astype(int).values, \n",
    "    df_test_all.label_binary.astype(int).values\n",
    ")\n",
    "\n",
    "# testing male cohort\n",
    "X_m_test, y_m_test, y_m_test_binary = (\n",
    "    df_test_m.text_processed.values, \n",
    "    df_test_m.label.astype(int).values, \n",
    "    df_test_m.label_binary.astype(int).values\n",
    ")\n",
    "\n",
    "# testing female cohort\n",
    "X_f_test, y_f_test, y_f_test_binary = (\n",
    "    df_test_f.text_processed.values, \n",
    "    df_test_f.label.astype(int).values, \n",
    "    df_test_f.label_binary.astype(int).values\n",
    ")"
   ]
  },
  {
   "cell_type": "code",
   "execution_count": 134,
   "id": "7b3b6e7b-8db3-4319-b60a-ecb75f38aba6",
   "metadata": {},
   "outputs": [
    {
     "data": {
      "text/plain": [
       "(2462, 770, 295, 531)"
      ]
     },
     "execution_count": 134,
     "metadata": {},
     "output_type": "execute_result"
    }
   ],
   "source": [
    "# sizes of the datasets\n",
    "X_both_train.shape[0], X_both_test.shape[0], X_m_test.shape[0], X_f_test.shape[0]"
   ]
  },
  {
   "cell_type": "markdown",
   "id": "a82c1b3b-0899-4bd5-a666-daf31d500b87",
   "metadata": {},
   "source": [
    "# 6. ML models"
   ]
  },
  {
   "cell_type": "code",
   "execution_count": 135,
   "id": "8afab40a-8db5-4dec-9b98-d7a15815fb68",
   "metadata": {},
   "outputs": [],
   "source": [
    "from sklearn.feature_extraction.text import CountVectorizer\n",
    "from sklearn.pipeline import Pipeline\n",
    "from sklearn.preprocessing import FunctionTransformer\n",
    "\n",
    "from sklearn.model_selection import cross_val_score, cross_validate, RandomizedSearchCV, GridSearchCV, cross_val_predict\n",
    "from sklearn.metrics import recall_score, precision_score, f1_score, accuracy_score, roc_curve, auc\n",
    "\n",
    "import re"
   ]
  },
  {
   "cell_type": "code",
   "execution_count": 136,
   "id": "cbbcd357-bdb2-4f3e-9f5d-d2f0e8d1b798",
   "metadata": {},
   "outputs": [],
   "source": [
    "scoring = ['precision', 'recall', 'f1', 'roc_auc']"
   ]
  },
  {
   "cell_type": "code",
   "execution_count": 137,
   "id": "c1b2a6f1-484d-4bf9-8169-808dd9ff1835",
   "metadata": {},
   "outputs": [],
   "source": [
    "vectorizer = CountVectorizer(tokenizer=custom_tokenizer, token_pattern=None)"
   ]
  },
  {
   "cell_type": "markdown",
   "id": "96130d69-fc12-4f59-a765-471a94835a00",
   "metadata": {},
   "source": [
    "## 6.1. Naive Bayes"
   ]
  },
  {
   "cell_type": "code",
   "execution_count": 138,
   "id": "26c9ef62-dc58-40a1-b0d4-f317e1ec0b97",
   "metadata": {},
   "outputs": [],
   "source": [
    "from sklearn.naive_bayes import GaussianNB, MultinomialNB"
   ]
  },
  {
   "cell_type": "code",
   "execution_count": 139,
   "id": "37f81202-18c3-4ba1-9387-33b3c29655f3",
   "metadata": {},
   "outputs": [],
   "source": [
    "# pipeline for modelling\n",
    "pipe1 = Pipeline([\n",
    "    ('count_vectorizer', CountVectorizer(tokenizer=custom_tokenizer, ngram_range=(1, 2), analyzer='word', token_pattern=None)), \n",
    "    ('to_dense', FunctionTransformer(lambda x: x.toarray(), accept_sparse=True)),\n",
    "    ('nb_mn', MultinomialNB())\n",
    "])"
   ]
  },
  {
   "cell_type": "code",
   "execution_count": 140,
   "id": "9451cbc9-7641-4215-823a-f3d628d0c217",
   "metadata": {},
   "outputs": [
    {
     "name": "stdout",
     "output_type": "stream",
     "text": [
      "Calculating bootstrap estimates for 1024 bootstrap samples\n"
     ]
    },
    {
     "name": "stderr",
     "output_type": "stream",
     "text": [
      "Calculating estimates: 100%|██████████████| 1024/1024 [00:00<00:00, 1459.66it/s]\n"
     ]
    },
    {
     "name": "stdout",
     "output_type": "stream",
     "text": [
      "Calculating bootstrap estimates for 1024 bootstrap samples\n"
     ]
    },
    {
     "name": "stderr",
     "output_type": "stream",
     "text": [
      "Calculating estimates: 100%|██████████████| 1024/1024 [00:00<00:00, 2149.31it/s]\n"
     ]
    },
    {
     "name": "stdout",
     "output_type": "stream",
     "text": [
      "Calculating bootstrap estimates for 1024 bootstrap samples\n"
     ]
    },
    {
     "name": "stderr",
     "output_type": "stream",
     "text": [
      "Calculating estimates: 100%|██████████████| 1024/1024 [00:00<00:00, 1734.29it/s]\n"
     ]
    }
   ],
   "source": [
    "# overall results\n",
    "df_results1, fpr1, tpr1, threshold1 = run_performance_estimate_pipeline(pipe1, \n",
    "                                                                        X_both_train, \n",
    "                                                                        y_both_train_binary, \n",
    "                                                                        X_both_test, \n",
    "                                                                        y_both_test_binary, \n",
    "                                                                        cv=10, \n",
    "                                                                        scoring=scoring, \n",
    "                                                                        num_bootstrap_samples=1024, \n",
    "                                                                        ci=0.95)\n",
    "\n",
    "# by gender\n",
    "# male\n",
    "df_results1_m, fpr1_m, tpr1_m, threshold1_m = run_performance_estimate_pipeline(pipe1, \n",
    "                                                                                X_both_train, \n",
    "                                                                                y_both_train_binary, \n",
    "                                                                                X_m_test, \n",
    "                                                                                y_m_test_binary, \n",
    "                                                                                cv=10, \n",
    "                                                                                scoring=scoring, \n",
    "                                                                                num_bootstrap_samples=1024, \n",
    "                                                                                ci=0.95)\n",
    "\n",
    "# female\n",
    "df_results1_f, fpr1_f, tpr1_f, threshold1_f = run_performance_estimate_pipeline(pipe1, \n",
    "                                                                                X_both_train, \n",
    "                                                                                y_both_train_binary, \n",
    "                                                                                X_f_test, \n",
    "                                                                                y_f_test_binary, \n",
    "                                                                                cv=10, \n",
    "                                                                                scoring=scoring, \n",
    "                                                                                num_bootstrap_samples=1024, \n",
    "                                                                                ci=0.95)"
   ]
  },
  {
   "cell_type": "code",
   "execution_count": 141,
   "id": "19fee06e-2d7e-4428-96e1-ec359b93577e",
   "metadata": {},
   "outputs": [
    {
     "data": {
      "image/png": "[encoded data removed]",
      "text/plain": [
       "<Figure size 600x400 with 1 Axes>"
      ]
     },
     "metadata": {},
     "output_type": "display_data"
    }
   ],
   "source": [
    "# Plot ROC Curve\n",
    "roc_auc1 = df_results1.query('metric == \"auc\"')['mean'].values[0].item()\n",
    "roc_auc1_m = df_results1_m.query('metric == \"auc\"')['mean'].values[0].item()\n",
    "roc_auc1_f = df_results1_f.query('metric == \"auc\"')['mean'].values[0].item()\n",
    "\n",
    "plt.figure(figsize=(6, 4))\n",
    "plt.plot(fpr1, tpr1, color=\"black\", lw=2, label=f\"ROC curve (AUC = {roc_auc1:.2f})\")\n",
    "plt.plot(fpr1_m, tpr1_m, color=\"blue\", lw=2, label=f\"M ROC curve (AUC = {roc_auc1_m:.2f})\")\n",
    "plt.plot(fpr1_f, tpr1_f, color=\"orange\", lw=2, label=f\"F ROC curve (AUC = {roc_auc1_f:.2f})\")\n",
    "plt.xlim([0.0, 1.0])\n",
    "plt.ylim([0.0, 1.05])\n",
    "plt.xlabel(\"False Positive Rate\")\n",
    "plt.ylabel(\"True Positive Rate\")\n",
    "plt.title(\"ROC Curve (Naive Bayes)\")\n",
    "plt.legend(loc=\"lower right\")\n",
    "plt.tight_layout()\n",
    "plt.savefig('../outputs/210625/roc_curve_nb_210625.png')\n",
    "plt.show()"
   ]
  },
  {
   "cell_type": "code",
   "execution_count": 142,
   "id": "010fc3ff-d48e-4597-af8a-44798d281f4d",
   "metadata": {},
   "outputs": [],
   "source": [
    "# include the gender and the ML model\n",
    "df_results1 = df_results1.assign(model='Naive Bayes').assign(gender='all')\n",
    "df_results1_m = df_results1_m.assign(model='Naive Bayes').assign(gender='male')\n",
    "df_results1_f = df_results1_f.assign(model='Naive Bayes').assign(gender='female')"
   ]
  },
  {
   "cell_type": "markdown",
   "id": "567b6775-b290-451b-94cd-5ed0e947dbdc",
   "metadata": {},
   "source": [
    "### 6.1.1 Feature extraction from Naive Bayes model"
   ]
  },
  {
   "cell_type": "code",
   "execution_count": 143,
   "id": "38c522c9-c9a6-4abf-8d0c-599b610be9d2",
   "metadata": {},
   "outputs": [],
   "source": [
    "# extract all the feature strings from the fitted pipeline\n",
    "all_feature_names = pipe1.named_steps['count_vectorizer'].get_feature_names_out()\n",
    "\n",
    "# filter to single token features\n",
    "features_single_token = np.array([feature_name for feature_name in all_feature_names if len(feature_name.split(' ')) == 1])\n",
    "\n",
    "single_token_features_mask = np.array([1 if len(feature_name.split(' ')) == 1 else 0 for feature_name in all_feature_names])\n"
   ]
  },
  {
   "cell_type": "code",
   "execution_count": 144,
   "id": "65902de3-3af3-4f56-ad38-36cb17db0fba",
   "metadata": {},
   "outputs": [],
   "source": [
    "# log probabilities of all the features\n",
    "# log probability of each token conditioned on a given class\n",
    "log_probs_neg_class = pipe1.named_steps['nb_mn'].feature_log_prob_[0, :]\n",
    "log_probs_pos_class = pipe1.named_steps['nb_mn'].feature_log_prob_[1, :]\n",
    "\n",
    "probs_neg_class = np.exp(log_probs_neg_class)\n",
    "probs_pos_class = np.exp(log_probs_pos_class)"
   ]
  },
  {
   "cell_type": "code",
   "execution_count": 145,
   "id": "3483862f-8bf2-40d5-88b0-9daf9a36dcc3",
   "metadata": {},
   "outputs": [],
   "source": [
    "I = np.identity(6588)"
   ]
  },
  {
   "cell_type": "code",
   "execution_count": 146,
   "id": "dc0d66f6-d375-4e31-ba19-3e1cefb5c68c",
   "metadata": {},
   "outputs": [],
   "source": [
    "k = 3000\n",
    "\n",
    "probs_pos_class = pipe1.named_steps['nb_mn'].predict_proba(I)[:, 1]\n",
    "probs_neg_class = pipe1.named_steps['nb_mn'].predict_proba(I)[:, 0]\n",
    "\n",
    "# find features that are most predictive each class\n",
    "topk_pos_features = all_feature_names[np.argsort(probs_pos_class)[::-1]]\n",
    "topk_neg_features = all_feature_names[np.argsort(probs_neg_class)[::-1]]"
   ]
  },
  {
   "cell_type": "code",
   "execution_count": 147,
   "id": "c843c5b8-a566-4738-aac6-5b159496fabf",
   "metadata": {},
   "outputs": [],
   "source": [
    "topk_pos_features = [feature_name for feature_name in topk_pos_features if len(feature_name.split(' ')) == 1][:50]\n",
    "topk_neg_features = [feature_name for feature_name in topk_neg_features if len(feature_name.split(' ')) == 1][:50]"
   ]
  },
  {
   "cell_type": "code",
   "execution_count": 148,
   "id": "ed9a0fb7-a9f4-46bd-833a-d2ce754bc03a",
   "metadata": {},
   "outputs": [],
   "source": [
    "# find the probabilities of each of these features\n",
    "topk_pos_probs = probs_pos_class[np.argsort(probs_pos_class)[::-1]]\n",
    "topk_neg_probs = probs_neg_class[np.argsort(probs_neg_class)[::-1]]"
   ]
  },
  {
   "cell_type": "markdown",
   "id": "bffbaf89-e538-4dfa-8024-6f01fc1a72d8",
   "metadata": {},
   "source": [
    "## 6.2. Rule-based classifier\n",
    "\n",
    "Approach\n",
    "1) Features selected from Naive Bayes algorithm using $log\\left(P(t|c)\\right)$ for class $c$ and feature $t$\n",
    "2) For each of the features, compute the difference between the log probabilities across the two classes\n",
    "3) Order features from largest to smallest based on this difference\n",
    "4) Choose the top k and bottom k features\n",
    "5) To classify first define $W = \\log\\left(P(c=1)\\right) - \\log\\left(P(c=0)\\right) + \\sum_w\\left[ \\log\\left( P(w | c=1)\\right) - \\log\\left( P(w | c=0) \\right) \\right]$\n",
    "where the summation is over all tokens $w$ in the text. If $W > 0$ then we predict 1 and 0 otherwise"
   ]
  },
  {
   "cell_type": "code",
   "execution_count": 149,
   "id": "2120799f-807a-4341-aa28-687bed9b0ddc",
   "metadata": {},
   "outputs": [],
   "source": [
    "# proportion of positive classes in training data\n",
    "Pc1 = y_both_train_binary.mean().item()\n",
    "Pc0 = 1 - Pc1"
   ]
  },
  {
   "cell_type": "code",
   "execution_count": 150,
   "id": "e9eb9ff6-baf0-4668-800c-cd2edd4747a1",
   "metadata": {},
   "outputs": [],
   "source": [
    "# extract all the feature strings from the fitted pipeline\n",
    "all_feature_names = pipe1.named_steps['count_vectorizer'].get_feature_names_out()\n",
    "\n",
    "# filter to single token features\n",
    "features_single_token = np.array([feature_name for feature_name in all_feature_names if len(feature_name.split(' ')) == 1])"
   ]
  },
  {
   "cell_type": "code",
   "execution_count": 151,
   "id": "480cc216-0636-42ed-8674-3544a3827f33",
   "metadata": {},
   "outputs": [],
   "source": [
    "# all the feature log probabilities\n",
    "feature_log_probs = np.array([list(pipe1.predict_log_proba([feature_name])[0]) for feature_name in features_single_token])\n",
    "\n",
    "# find the differences\n",
    "log_prob_diffs = feature_log_probs[:, 1] - feature_log_probs[:, 0]\n",
    "\n",
    "# rank the features based on this difference\n",
    "ranked_feature_indices = np.argsort(log_prob_diffs)[::-1]"
   ]
  },
  {
   "cell_type": "code",
   "execution_count": 240,
   "id": "72a82c4d-09ed-428a-a4bc-aa2a86f1956c",
   "metadata": {},
   "outputs": [],
   "source": [
    "# top and bottom k features\n",
    "k = 64\n",
    "\n",
    "top_k_features = features_single_token[ranked_feature_indices[:k]]\n",
    "low_k_features = features_single_token[ranked_feature_indices[-k:]]\n",
    "\n",
    "top_k_feature_probs = log_prob_diffs[ranked_feature_indices[:k]]\n",
    "low_k_feature_probs = log_prob_diffs[ranked_feature_indices[-k:]]\n",
    "\n",
    "feature_score_mapping_top = dict(zip(top_k_features, top_k_feature_probs))\n",
    "feature_score_mapping_low = dict(zip(low_k_features, low_k_feature_probs))"
   ]
  },
  {
   "cell_type": "markdown",
   "id": "db1ec3b0-6957-472f-9dda-21488b39baab",
   "metadata": {},
   "source": [
    "### 6.2.1. Feature importances"
   ]
  },
  {
   "cell_type": "code",
   "execution_count": 241,
   "id": "4218f901-e455-419d-b2be-f130eb28e2be",
   "metadata": {},
   "outputs": [
    {
     "data": {
      "image/png": "[encoded data removed]",
      "text/plain": [
       "<Figure size 800x600 with 2 Axes>"
      ]
     },
     "metadata": {},
     "output_type": "display_data"
    }
   ],
   "source": [
    "# create a bar chart showing the top and bottom k features\n",
    "import matplotlib.pyplot as plt\n",
    "import numpy as np\n",
    "\n",
    "# Create position indexes for features\n",
    "y_pos = np.arange(k)\n",
    "bar_height = 0.8\n",
    "\n",
    "fig, ax = plt.subplots(figsize=(8, 6))\n",
    "\n",
    "# Plot first set\n",
    "ax.barh(y_pos, low_k_feature_probs, height=bar_height, color='blue')\n",
    "\n",
    "# Plot second set\n",
    "ax.barh(y_pos, top_k_feature_probs[::-1], height=bar_height, color='red')\n",
    "\n",
    "# Labels and ticks\n",
    "ax.set_yticks(y_pos)\n",
    "ax.set_yticklabels(low_k_features)\n",
    "\n",
    "# Right y-axis with different labels\n",
    "ax2 = ax.twinx()\n",
    "ax2.set_ylim(ax.get_ylim())  # match y-limits\n",
    "ax2.set_yticks(y_pos)\n",
    "ax2.set_yticklabels(top_k_features[::-1])\n",
    "\n",
    "plt.title('Feature importances\\nblue: less likely to be UWL\\nred: more likely to be UWL')\n",
    "plt.tight_layout()\n",
    "plt.savefig('../outputs/210625/feature_importances_32_rb.png')\n",
    "plt.xlabel('')\n",
    "plt.show()"
   ]
  },
  {
   "cell_type": "markdown",
   "id": "20df50f7-e109-44a8-99b3-ce240b44c539",
   "metadata": {},
   "source": [
    "### 6.2.2. Definition of classifier"
   ]
  },
  {
   "cell_type": "code",
   "execution_count": 242,
   "id": "cb1f0688-28fd-42e2-a01c-5a0612981949",
   "metadata": {},
   "outputs": [],
   "source": [
    "def rule_based_classifier(text, pos_tokens_all, neg_tokens_all):\n",
    "    \"\"\"\n",
    "    Rule-based classifier function. Takes a reason for encounter text and assigns\n",
    "    a binary value based on whether it is likely to be a UWL encounter or not\n",
    "\n",
    "    Parameters\n",
    "    ----------\n",
    "    text (str) : reason for encounter text\n",
    "    pos_tokens_all (list of str) : tokens indicating a likely UWL encounter\n",
    "    neg_tokens_all (list of str) : tokens indicating a likely non-UWL encounter\n",
    "\n",
    "    Returns\n",
    "    -------\n",
    "    score (float) : the score produced by the model (not a probability)\n",
    "    label (int) : 1 if predicting UWL, 0 if not\n",
    "    \"\"\"\n",
    "    # split the text into tokens\n",
    "    tokens = text.lower().split(' ')\n",
    "\n",
    "    # find the positive tokens\n",
    "    pos_tokens = set(tokens).intersection(pos_tokens_all)\n",
    "\n",
    "    # find the negative tokens\n",
    "    neg_tokens = set(tokens).intersection(neg_tokens_all)\n",
    "\n",
    "    # assign scores to each set of tokens\n",
    "    pos_token_scores = [feature_score_mapping_top[token] for token in pos_tokens]\n",
    "    neg_token_scores = [feature_score_mapping_low[token] for token in neg_tokens]\n",
    "\n",
    "    # calculate the final score\n",
    "    score = Pc1 - Pc0 + np.sum(pos_token_scores) + np.sum(neg_token_scores)\n",
    "    \n",
    "    label = 1 if score > 0 else 0\n",
    "    \n",
    "    return score, label"
   ]
  },
  {
   "cell_type": "markdown",
   "id": "58520899-4cc3-478b-8440-b77310397121",
   "metadata": {},
   "source": [
    "### 6.2.3. Performance evaluation"
   ]
  },
  {
   "cell_type": "code",
   "execution_count": 243,
   "id": "0f1752fe-125e-4391-b3d2-d257b877e882",
   "metadata": {},
   "outputs": [],
   "source": [
    "y_both_train_pred = np.array([rule_based_classifier(text, top_k_features, low_k_features) for text in X_both_train])\n",
    "y_m_test_pred = np.array([rule_based_classifier(text, top_k_features, low_k_features) for text in X_m_test])\n",
    "y_f_test_pred = np.array([rule_based_classifier(text, top_k_features, low_k_features) for text in X_f_test])\n",
    "y_both_test_pred = np.array([rule_based_classifier(text, top_k_features, low_k_features) for text in X_both_test])"
   ]
  },
  {
   "cell_type": "code",
   "execution_count": 244,
   "id": "fb3683b9-f6a3-4994-9620-4fd644823e1c",
   "metadata": {},
   "outputs": [],
   "source": [
    "fpr, tpr, threshold = roc_curve(y_both_train_binary, y_both_train_pred[:, 0])"
   ]
  },
  {
   "cell_type": "code",
   "execution_count": 246,
   "id": "8b7c0159-67f6-474e-99f7-b14b13270846",
   "metadata": {},
   "outputs": [
    {
     "data": {
      "text/plain": [
       "np.float64(0.7782399163721087)"
      ]
     },
     "execution_count": 246,
     "metadata": {},
     "output_type": "execute_result"
    }
   ],
   "source": [
    "roc_auc_score(y_both_test_binary, y_both_test_pred[:, 0])"
   ]
  },
  {
   "cell_type": "code",
   "execution_count": 247,
   "id": "aa46a75c-74c5-4a4c-bef2-12a2b3f51355",
   "metadata": {},
   "outputs": [
    {
     "data": {
      "image/png": "[encoded data removed]",
      "text/plain": [
       "<Figure size 600x400 with 1 Axes>"
      ]
     },
     "metadata": {},
     "output_type": "display_data"
    }
   ],
   "source": [
    "plt.figure(figsize=(6, 4))\n",
    "plt.plot(fpr, tpr)\n",
    "plt.show()"
   ]
  },
  {
   "cell_type": "code",
   "execution_count": 248,
   "id": "d5ee46c0-8238-4fdf-b1b5-9412f8816895",
   "metadata": {},
   "outputs": [
    {
     "name": "stdout",
     "output_type": "stream",
     "text": [
      "Calculating bootstrap estimates for 1024 bootstrap samples\n"
     ]
    },
    {
     "name": "stderr",
     "output_type": "stream",
     "text": [
      "Calculating estimates: 100%|██████████████| 1024/1024 [00:00<00:00, 1514.06it/s]\n"
     ]
    },
    {
     "data": {
      "text/html": [
       "<div>\n",
       "<style scoped>\n",
       "    .dataframe tbody tr th:only-of-type {\n",
       "        vertical-align: middle;\n",
       "    }\n",
       "\n",
       "    .dataframe tbody tr th {\n",
       "        vertical-align: top;\n",
       "    }\n",
       "\n",
       "    .dataframe thead th {\n",
       "        text-align: right;\n",
       "    }\n",
       "</style>\n",
       "<table border=\"1\" class=\"dataframe\">\n",
       "  <thead>\n",
       "    <tr style=\"text-align: right;\">\n",
       "      <th></th>\n",
       "      <th>metric</th>\n",
       "      <th>mean</th>\n",
       "      <th>left_ci</th>\n",
       "      <th>right_ci</th>\n",
       "      <th>model</th>\n",
       "      <th>gender</th>\n",
       "    </tr>\n",
       "  </thead>\n",
       "  <tbody>\n",
       "    <tr>\n",
       "      <th>0</th>\n",
       "      <td>auc</td>\n",
       "      <td>NaN</td>\n",
       "      <td>NaN</td>\n",
       "      <td>NaN</td>\n",
       "      <td>Rule-based</td>\n",
       "      <td>both</td>\n",
       "    </tr>\n",
       "    <tr>\n",
       "      <th>1</th>\n",
       "      <td>ppv</td>\n",
       "      <td>0.811306</td>\n",
       "      <td>0.782178</td>\n",
       "      <td>0.839716</td>\n",
       "      <td>Rule-based</td>\n",
       "      <td>both</td>\n",
       "    </tr>\n",
       "    <tr>\n",
       "      <th>2</th>\n",
       "      <td>npv</td>\n",
       "      <td>0.927749</td>\n",
       "      <td>0.862500</td>\n",
       "      <td>0.985075</td>\n",
       "      <td>Rule-based</td>\n",
       "      <td>both</td>\n",
       "    </tr>\n",
       "    <tr>\n",
       "      <th>3</th>\n",
       "      <td>sensitivity</td>\n",
       "      <td>0.991128</td>\n",
       "      <td>0.982818</td>\n",
       "      <td>0.998252</td>\n",
       "      <td>Rule-based</td>\n",
       "      <td>both</td>\n",
       "    </tr>\n",
       "    <tr>\n",
       "      <th>4</th>\n",
       "      <td>specificity</td>\n",
       "      <td>0.330137</td>\n",
       "      <td>0.269608</td>\n",
       "      <td>0.397790</td>\n",
       "      <td>Rule-based</td>\n",
       "      <td>both</td>\n",
       "    </tr>\n",
       "  </tbody>\n",
       "</table>\n",
       "</div>"
      ],
      "text/plain": [
       "        metric      mean   left_ci  right_ci       model gender\n",
       "0          auc       NaN       NaN       NaN  Rule-based   both\n",
       "1          ppv  0.811306  0.782178  0.839716  Rule-based   both\n",
       "2          npv  0.927749  0.862500  0.985075  Rule-based   both\n",
       "3  sensitivity  0.991128  0.982818  0.998252  Rule-based   both\n",
       "4  specificity  0.330137  0.269608  0.397790  Rule-based   both"
      ]
     },
     "execution_count": 248,
     "metadata": {},
     "output_type": "execute_result"
    }
   ],
   "source": [
    "sample = list(zip(y_both_test_binary, y_both_test_pred[:, 1]))\n",
    "results1b_all = calculate_bootstrap_ci(sample, num_bootstrap_samples=1024, ci=0.95, threshold=0)\n",
    "\n",
    "df_results1b = pd.DataFrame(results1b_all).T.rename(columns={0: 'mean', 1: 'left_ci', 2: 'right_ci'})\n",
    "df_results1b.index.name = 'metric'\n",
    "df_results1b.reset_index(inplace=True)\n",
    "\n",
    "# AUC values should be nan since we don't have probs for rule-based classifier\n",
    "df_results1b.iloc[0, 1] = np.nan\n",
    "df_results1b.iloc[0, 2] = np.nan\n",
    "df_results1b.iloc[0, 3] = np.nan\n",
    "\n",
    "df_results1b.assign(model='Rule-based').assign(gender='both')"
   ]
  },
  {
   "cell_type": "code",
   "execution_count": 249,
   "id": "b8982cc7-fd72-437c-8eb6-0972911aa1c8",
   "metadata": {},
   "outputs": [
    {
     "name": "stdout",
     "output_type": "stream",
     "text": [
      "Calculating bootstrap estimates for 1024 bootstrap samples\n"
     ]
    },
    {
     "name": "stderr",
     "output_type": "stream",
     "text": [
      "Calculating estimates: 100%|██████████████| 1024/1024 [00:00<00:00, 1763.05it/s]\n"
     ]
    }
   ],
   "source": [
    "sample = list(zip(y_f_test_binary, y_f_test_pred[:, 1]))\n",
    "results1b_f = calculate_bootstrap_ci(sample, num_bootstrap_samples=1024, ci=0.95, threshold=0)\n",
    "\n",
    "df_results1b_f = pd.DataFrame(results1b_f).T.rename(columns={0: 'mean', 1: 'left_ci', 2: 'right_ci'})\n",
    "df_results1b_f.index.name = 'metric'\n",
    "df_results1b_f.reset_index(inplace=True)\n",
    "#df_results1b_f = df_results1b_f.iloc[1:, :].reset_index()\n",
    "\n",
    "# AUC values should be nan since we don't have probs for rule-based classifier\n",
    "df_results1b_f.iloc[0, 1] = np.nan\n",
    "df_results1b_f.iloc[0, 2] = np.nan\n",
    "df_results1b_f.iloc[0, 3] = np.nan"
   ]
  },
  {
   "cell_type": "code",
   "execution_count": 250,
   "id": "1fb1c395-0590-41f0-8569-07036f0d49fc",
   "metadata": {},
   "outputs": [
    {
     "name": "stdout",
     "output_type": "stream",
     "text": [
      "Calculating bootstrap estimates for 1024 bootstrap samples\n"
     ]
    },
    {
     "name": "stderr",
     "output_type": "stream",
     "text": [
      "Calculating estimates: 100%|██████████████| 1024/1024 [00:00<00:00, 2099.27it/s]\n"
     ]
    }
   ],
   "source": [
    "sample = list(zip(y_m_test_binary, y_m_test_pred[:, 1]))\n",
    "results1b_m = calculate_bootstrap_ci(sample, num_bootstrap_samples=1024, ci=0.95, threshold=0)\n",
    "\n",
    "df_results1b_m = pd.DataFrame(results1b_m).T.rename(columns={0: 'mean', 1: 'left_ci', 2: 'right_ci'})\n",
    "df_results1b_m.index.name = 'metric'\n",
    "df_results1b_m.reset_index(inplace=True)\n",
    "\n",
    "# AUC values should be nan since we don't have probs for rule-based classifier\n",
    "df_results1b_m.iloc[0, 1] = np.nan\n",
    "df_results1b_m.iloc[0, 2] = np.nan\n",
    "df_results1b_m.iloc[0, 3] = np.nan"
   ]
  },
  {
   "cell_type": "code",
   "execution_count": 251,
   "id": "35b3531b-ef24-4f90-b181-8f40d1a336af",
   "metadata": {},
   "outputs": [],
   "source": [
    "df_results1b = df_results1b.assign(model='Rule-based').assign(gender='overall')\n",
    "df_results1b_f = df_results1b_f.assign(model='Rule-based').assign(gender='female')\n",
    "df_results1b_m = df_results1b_m.assign(model='Rule-based').assign(gender='male')"
   ]
  },
  {
   "cell_type": "code",
   "execution_count": 253,
   "id": "f60d626b-1e6e-46c8-bf29-ec022c5877a5",
   "metadata": {},
   "outputs": [
    {
     "data": {
      "text/html": [
       "<div>\n",
       "<style scoped>\n",
       "    .dataframe tbody tr th:only-of-type {\n",
       "        vertical-align: middle;\n",
       "    }\n",
       "\n",
       "    .dataframe tbody tr th {\n",
       "        vertical-align: top;\n",
       "    }\n",
       "\n",
       "    .dataframe thead th {\n",
       "        text-align: right;\n",
       "    }\n",
       "</style>\n",
       "<table border=\"1\" class=\"dataframe\">\n",
       "  <thead>\n",
       "    <tr style=\"text-align: right;\">\n",
       "      <th></th>\n",
       "      <th>metric</th>\n",
       "      <th>mean</th>\n",
       "      <th>left_ci</th>\n",
       "      <th>right_ci</th>\n",
       "      <th>model</th>\n",
       "      <th>gender</th>\n",
       "    </tr>\n",
       "  </thead>\n",
       "  <tbody>\n",
       "    <tr>\n",
       "      <th>0</th>\n",
       "      <td>auc</td>\n",
       "      <td>NaN</td>\n",
       "      <td>NaN</td>\n",
       "      <td>NaN</td>\n",
       "      <td>Rule-based</td>\n",
       "      <td>female</td>\n",
       "    </tr>\n",
       "    <tr>\n",
       "      <th>1</th>\n",
       "      <td>ppv</td>\n",
       "      <td>0.821302</td>\n",
       "      <td>0.784969</td>\n",
       "      <td>0.856250</td>\n",
       "      <td>Rule-based</td>\n",
       "      <td>female</td>\n",
       "    </tr>\n",
       "    <tr>\n",
       "      <th>2</th>\n",
       "      <td>npv</td>\n",
       "      <td>0.921056</td>\n",
       "      <td>0.830508</td>\n",
       "      <td>0.982456</td>\n",
       "      <td>Rule-based</td>\n",
       "      <td>female</td>\n",
       "    </tr>\n",
       "    <tr>\n",
       "      <th>3</th>\n",
       "      <td>sensitivity</td>\n",
       "      <td>0.990154</td>\n",
       "      <td>0.977941</td>\n",
       "      <td>0.997579</td>\n",
       "      <td>Rule-based</td>\n",
       "      <td>female</td>\n",
       "    </tr>\n",
       "    <tr>\n",
       "      <th>4</th>\n",
       "      <td>specificity</td>\n",
       "      <td>0.347639</td>\n",
       "      <td>0.272727</td>\n",
       "      <td>0.428571</td>\n",
       "      <td>Rule-based</td>\n",
       "      <td>female</td>\n",
       "    </tr>\n",
       "  </tbody>\n",
       "</table>\n",
       "</div>"
      ],
      "text/plain": [
       "        metric      mean   left_ci  right_ci       model  gender\n",
       "0          auc       NaN       NaN       NaN  Rule-based  female\n",
       "1          ppv  0.821302  0.784969  0.856250  Rule-based  female\n",
       "2          npv  0.921056  0.830508  0.982456  Rule-based  female\n",
       "3  sensitivity  0.990154  0.977941  0.997579  Rule-based  female\n",
       "4  specificity  0.347639  0.272727  0.428571  Rule-based  female"
      ]
     },
     "execution_count": 253,
     "metadata": {},
     "output_type": "execute_result"
    }
   ],
   "source": [
    "df_results1b_f"
   ]
  },
  {
   "cell_type": "markdown",
   "id": "5ac7b69a-e4e8-46e4-a5b2-ca3ef31632d3",
   "metadata": {},
   "source": [
    "## 6.3. Decision tree classifier"
   ]
  },
  {
   "cell_type": "code",
   "execution_count": 166,
   "id": "5bb6b6bf-b0ff-4f9a-95a0-8013340dd336",
   "metadata": {},
   "outputs": [],
   "source": [
    "from sklearn.tree import DecisionTreeClassifier"
   ]
  },
  {
   "cell_type": "code",
   "execution_count": 167,
   "id": "89715ce1-e42b-4654-bbd3-d7b8523520d2",
   "metadata": {},
   "outputs": [],
   "source": [
    "# ML modelling pipeline\n",
    "pipe2 = Pipeline([\n",
    "    ('count_vectorizer', CountVectorizer(tokenizer=custom_tokenizer, ngram_range=(1, 2), analyzer='word', token_pattern=None)), \n",
    "    ('to_dense', FunctionTransformer(lambda x: x.toarray(), accept_sparse=True)),\n",
    "    ('dtc', DecisionTreeClassifier())\n",
    "])"
   ]
  },
  {
   "cell_type": "code",
   "execution_count": 168,
   "id": "ae524ba6-7163-43fc-ad20-cf715bbda11e",
   "metadata": {},
   "outputs": [],
   "source": [
    "# grid search for optimal hyperparameters\n",
    "params = {'dtc__max_depth': np.arange(1, 2048), \n",
    "          'dtc__max_features': [8, 16, 32, 64, 128, 256, 512, 1024, 1200, 1400, 1600],\n",
    "          'dtc__min_samples_split': [2, 4, 6, 8, 16]}\n",
    "\n",
    "clf2 = RandomizedSearchCV(pipe2, params, scoring='roc_auc')\n",
    "\n",
    "search2 = clf2.fit(X_both_train, y_both_train_binary)"
   ]
  },
  {
   "cell_type": "code",
   "execution_count": 169,
   "id": "dfc8c341-1ff9-4b81-9fdf-ebfadbb91139",
   "metadata": {},
   "outputs": [],
   "source": [
    "# ML modelling pipeline: best params\n",
    "pipe2 = Pipeline([\n",
    "    ('count_vectorizer', CountVectorizer(tokenizer=custom_tokenizer, ngram_range=(1, 2), analyzer='word', token_pattern=None)), \n",
    "    ('to_dense', FunctionTransformer(lambda x: x.toarray(), accept_sparse=True)),\n",
    "    ('dtc', DecisionTreeClassifier(min_samples_split=search2.best_params_['dtc__min_samples_split'], \n",
    "                                   max_features=search2.best_params_['dtc__max_features'], \n",
    "                                   max_depth=search2.best_params_['dtc__max_depth']))\n",
    "])"
   ]
  },
  {
   "cell_type": "code",
   "execution_count": 170,
   "id": "f6fdbf6a-093c-4f45-8fb2-f91ff73eb2b2",
   "metadata": {},
   "outputs": [
    {
     "name": "stdout",
     "output_type": "stream",
     "text": [
      "Calculating bootstrap estimates for 1024 bootstrap samples\n"
     ]
    },
    {
     "name": "stderr",
     "output_type": "stream",
     "text": [
      "Calculating estimates: 100%|██████████████| 1024/1024 [00:00<00:00, 1516.44it/s]\n"
     ]
    },
    {
     "name": "stdout",
     "output_type": "stream",
     "text": [
      "Calculating bootstrap estimates for 1024 bootstrap samples\n"
     ]
    },
    {
     "name": "stderr",
     "output_type": "stream",
     "text": [
      "Calculating estimates: 100%|██████████████| 1024/1024 [00:00<00:00, 2114.35it/s]\n"
     ]
    },
    {
     "name": "stdout",
     "output_type": "stream",
     "text": [
      "Calculating bootstrap estimates for 1024 bootstrap samples\n"
     ]
    },
    {
     "name": "stderr",
     "output_type": "stream",
     "text": [
      "Calculating estimates: 100%|██████████████| 1024/1024 [00:00<00:00, 1781.41it/s]\n"
     ]
    }
   ],
   "source": [
    "df_results2, fpr2, tpr2, threshold2 = run_performance_estimate_pipeline(pipe2, \n",
    "                                                                        X_both_train, \n",
    "                                                                        y_both_train_binary, \n",
    "                                                                        X_both_test, \n",
    "                                                                        y_both_test_binary, \n",
    "                                                                        cv=10, \n",
    "                                                                        scoring=scoring, \n",
    "                                                                        num_bootstrap_samples=1024, \n",
    "                                                                        ci=0.95)\n",
    "# by gender\n",
    "# male\n",
    "df_results2_m, fpr2_m, tpr2_m, threshold2_m = run_performance_estimate_pipeline(pipe2, \n",
    "                                                                                X_both_train, \n",
    "                                                                                y_both_train_binary, \n",
    "                                                                                X_m_test, \n",
    "                                                                                y_m_test_binary, \n",
    "                                                                                cv=10, \n",
    "                                                                                scoring=scoring, \n",
    "                                                                                num_bootstrap_samples=1024, \n",
    "                                                                                ci=0.95)\n",
    "\n",
    "# female\n",
    "df_results2_f, fpr2_f, tpr2_f, threshold2_f = run_performance_estimate_pipeline(pipe2, \n",
    "                                                                                X_both_train, \n",
    "                                                                                y_both_train_binary, \n",
    "                                                                                X_f_test, \n",
    "                                                                                y_f_test_binary, \n",
    "                                                                                cv=10, \n",
    "                                                                                scoring=scoring, \n",
    "                                                                                num_bootstrap_samples=1024, \n",
    "                                                                                ci=0.95)"
   ]
  },
  {
   "cell_type": "code",
   "execution_count": 171,
   "id": "98969c66-a633-480f-ace1-012a7190b2b3",
   "metadata": {},
   "outputs": [
    {
     "data": {
      "image/png": "[encoded data removed]",
      "text/plain": [
       "<Figure size 600x400 with 1 Axes>"
      ]
     },
     "metadata": {},
     "output_type": "display_data"
    }
   ],
   "source": [
    "# Plot ROC Curve\n",
    "roc_auc2 = df_results2.query('metric == \"auc\"')['mean'].values[0].item()\n",
    "roc_auc2_m = df_results2_m.query('metric == \"auc\"')['mean'].values[0].item()\n",
    "roc_auc2_f = df_results2_f.query('metric == \"auc\"')['mean'].values[0].item()\n",
    "\n",
    "plt.figure(figsize=(6, 4))\n",
    "plt.plot(fpr2, tpr2, color=\"black\", lw=2, label=f\"ROC curve (AUC = {roc_auc2:.2f})\")\n",
    "plt.plot(fpr2_m, tpr2_m, color=\"blue\", lw=2, label=f\"M ROC curve (AUC = {roc_auc2:.2f})\")\n",
    "plt.plot(fpr2_f, tpr2_f, color=\"orange\", lw=2, label=f\"F ROC curve (AUC = {roc_auc2:.2f})\")\n",
    "plt.xlim([0.0, 1.0])\n",
    "plt.ylim([0.0, 1.05])\n",
    "plt.xlabel(\"False Positive Rate\")\n",
    "plt.ylabel(\"True Positive Rate\")\n",
    "plt.title(\"ROC Curve (Decision Tree)\")\n",
    "plt.legend(loc=\"lower right\")\n",
    "plt.tight_layout()\n",
    "plt.savefig('../outputs/210625/roc_curve_dt_210625.png')\n",
    "plt.show()"
   ]
  },
  {
   "cell_type": "code",
   "execution_count": 172,
   "id": "85e25c08-12d9-4750-8cdb-028bf27408c8",
   "metadata": {},
   "outputs": [],
   "source": [
    "# include the gender and the ML model\n",
    "df_results2 = df_results2.assign(model='Decision Tree').assign(gender='all')\n",
    "df_results2_m = df_results2_m.assign(model='Decision Tree').assign(gender='male')\n",
    "df_results2_f = df_results2_f.assign(model='Decision Tree').assign(gender='female')"
   ]
  },
  {
   "cell_type": "markdown",
   "id": "bf32178a-c8cb-47a8-be50-93fcb715c9a1",
   "metadata": {},
   "source": [
    "## 6.4. RandomForests"
   ]
  },
  {
   "cell_type": "code",
   "execution_count": 173,
   "id": "5da9a645-902f-4027-a2fe-e5b17429ef56",
   "metadata": {},
   "outputs": [],
   "source": [
    "from sklearn.ensemble import RandomForestClassifier"
   ]
  },
  {
   "cell_type": "code",
   "execution_count": 174,
   "id": "fcc60326-87f2-4bf3-9840-7e992ab96016",
   "metadata": {},
   "outputs": [],
   "source": [
    "pipe3 = Pipeline([\n",
    "    ('count_vectorizer', CountVectorizer(tokenizer=custom_tokenizer, ngram_range=(1, 2), analyzer='word', token_pattern=None)), \n",
    "    ('to_dense', FunctionTransformer(lambda x: x.toarray(), accept_sparse=True)),\n",
    "    ('rf', RandomForestClassifier())\n",
    "])"
   ]
  },
  {
   "cell_type": "code",
   "execution_count": 175,
   "id": "089d595e-a2de-4bf2-806d-868c2d0228b5",
   "metadata": {},
   "outputs": [],
   "source": [
    "# grid search for optimal hyperparameters\n",
    "params = {'rf__max_depth': np.arange(1, 2048), \n",
    "          'rf__max_features': np.arange(8, 2048),\n",
    "          'rf__min_samples_split': np.arange(2, 128)}\n",
    "\n",
    "clf3 = RandomizedSearchCV(pipe3, params, scoring='roc_auc')\n",
    "\n",
    "search3 = clf3.fit(X_both_train, y_both_train_binary)"
   ]
  },
  {
   "cell_type": "code",
   "execution_count": 176,
   "id": "3a2122bd-6508-4e45-80a5-3d5fbfe1ec8e",
   "metadata": {},
   "outputs": [],
   "source": [
    "pipe3 = Pipeline([\n",
    "    ('count_vectorizer', CountVectorizer(tokenizer=custom_tokenizer, ngram_range=(1, 2), analyzer='word', token_pattern=None)), \n",
    "    ('to_dense', FunctionTransformer(lambda x: x.toarray(), accept_sparse=True)),\n",
    "    ('rf', RandomForestClassifier(max_depth=search3.best_params_['rf__max_depth'], \n",
    "                                  max_features=search3.best_params_['rf__max_features'], \n",
    "                                  min_samples_split=search3.best_params_['rf__min_samples_split']))\n",
    "])"
   ]
  },
  {
   "cell_type": "code",
   "execution_count": 177,
   "id": "1a7ac67d-7103-4d0c-a84d-2b993e9ff1bc",
   "metadata": {},
   "outputs": [
    {
     "name": "stdout",
     "output_type": "stream",
     "text": [
      "Calculating bootstrap estimates for 1024 bootstrap samples\n"
     ]
    },
    {
     "name": "stderr",
     "output_type": "stream",
     "text": [
      "Calculating estimates: 100%|██████████████| 1024/1024 [00:00<00:00, 1405.02it/s]\n"
     ]
    },
    {
     "name": "stdout",
     "output_type": "stream",
     "text": [
      "Calculating bootstrap estimates for 1024 bootstrap samples\n"
     ]
    },
    {
     "name": "stderr",
     "output_type": "stream",
     "text": [
      "Calculating estimates: 100%|██████████████| 1024/1024 [00:00<00:00, 2045.88it/s]\n"
     ]
    },
    {
     "name": "stdout",
     "output_type": "stream",
     "text": [
      "Calculating bootstrap estimates for 1024 bootstrap samples\n"
     ]
    },
    {
     "name": "stderr",
     "output_type": "stream",
     "text": [
      "Calculating estimates: 100%|██████████████| 1024/1024 [00:00<00:00, 1665.01it/s]\n"
     ]
    }
   ],
   "source": [
    "df_results3, fpr3, tpr3, threshold3 = run_performance_estimate_pipeline(pipe3, \n",
    "                                                                        X_both_train, \n",
    "                                                                        y_both_train_binary, \n",
    "                                                                        X_both_test, \n",
    "                                                                        y_both_test_binary, \n",
    "                                                                        cv=10, \n",
    "                                                                        scoring=scoring, \n",
    "                                                                        num_bootstrap_samples=1024, \n",
    "                                                                        ci=0.95)\n",
    "\n",
    "df_results3_m, fpr3_m, tpr3_m, threshold3_m = run_performance_estimate_pipeline(pipe3, \n",
    "                                                                                X_both_train, \n",
    "                                                                                y_both_train_binary, \n",
    "                                                                                X_m_test, \n",
    "                                                                                y_m_test_binary, \n",
    "                                                                                cv=10, \n",
    "                                                                                scoring=scoring, \n",
    "                                                                                num_bootstrap_samples=1024, \n",
    "                                                                                ci=0.95)\n",
    "\n",
    "# female\n",
    "df_results3_f, fpr3_f, tpr3_f, threshold3_f = run_performance_estimate_pipeline(pipe3, \n",
    "                                                                                X_both_train, \n",
    "                                                                                y_both_train_binary, \n",
    "                                                                                X_f_test, \n",
    "                                                                                y_f_test_binary, \n",
    "                                                                                cv=10, \n",
    "                                                                                scoring=scoring, \n",
    "                                                                                num_bootstrap_samples=1024, \n",
    "                                                                                ci=0.95)"
   ]
  },
  {
   "cell_type": "code",
   "execution_count": 178,
   "id": "8a05996e-053d-48d3-a59e-742b335ca0cf",
   "metadata": {},
   "outputs": [
    {
     "data": {
      "image/png": "[encoded data removed]",
      "text/plain": [
       "<Figure size 600x400 with 1 Axes>"
      ]
     },
     "metadata": {},
     "output_type": "display_data"
    }
   ],
   "source": [
    "# Plot ROC Curve\n",
    "roc_auc3 = df_results3.query('metric == \"auc\"')['mean'].values[0].item()\n",
    "roc_auc3_m = df_results3_m.query('metric == \"auc\"')['mean'].values[0].item()\n",
    "roc_auc3_f = df_results3_f.query('metric == \"auc\"')['mean'].values[0].item()\n",
    "\n",
    "plt.figure(figsize=(6, 4))\n",
    "plt.plot(fpr3, tpr3, color=\"black\", lw=2, label=f\"ROC curve (AUC = {roc_auc3:.2f})\")\n",
    "plt.plot(fpr3_m, tpr3_m, color=\"blue\", lw=2, label=f\"M ROC curve (AUC = {roc_auc3_m:.2f})\")\n",
    "plt.plot(fpr3_f, tpr3_f, color=\"orange\", lw=2, label=f\"F ROC curve (AUC = {roc_auc3_f:.2f})\")\n",
    "plt.xlim([0.0, 1.0])\n",
    "plt.ylim([0.0, 1.05])\n",
    "plt.xlabel(\"False Positive Rate\")\n",
    "plt.ylabel(\"True Positive Rate\")\n",
    "plt.title(\"ROC Curve (Random Forest)\")\n",
    "plt.legend(loc=\"lower right\")\n",
    "plt.tight_layout()\n",
    "plt.savefig('../outputs/210625/roc_curve_rf_210625.png')\n",
    "plt.show()"
   ]
  },
  {
   "cell_type": "code",
   "execution_count": 179,
   "id": "af700b77-f3d1-4726-a8c6-3653d8fedbaa",
   "metadata": {},
   "outputs": [],
   "source": [
    "# include the gender and the ML model\n",
    "df_results3 = df_results3.assign(model='RandomForest').assign(gender='all')\n",
    "df_results3_m = df_results3_m.assign(model='RandomForest').assign(gender='male')\n",
    "df_results3_f = df_results3_f.assign(model='RandomForest').assign(gender='female')"
   ]
  },
  {
   "cell_type": "markdown",
   "id": "89f782ed-2fd8-41d0-8725-3a086bf3c81a",
   "metadata": {},
   "source": [
    "## 6.5. Logistic regression classifier\n",
    "\n",
    "Findings:\n",
    "- Out of 6360 features in original pipeline, only require 243 for l1 logistic regression"
   ]
  },
  {
   "cell_type": "code",
   "execution_count": 180,
   "id": "b349dbbe-3fd0-4e38-a0b1-bc273d9548b1",
   "metadata": {},
   "outputs": [],
   "source": [
    "from sklearn.linear_model import LogisticRegression"
   ]
  },
  {
   "cell_type": "markdown",
   "id": "8407852d-7d59-4221-be9e-f5d82fc22ca8",
   "metadata": {},
   "source": [
    "### 6.5.1. Train the model"
   ]
  },
  {
   "cell_type": "code",
   "execution_count": 181,
   "id": "e66d8690-4fe0-4685-bbe1-2ad16e75c483",
   "metadata": {},
   "outputs": [],
   "source": [
    "pipe4 = Pipeline([\n",
    "    ('count_vectorizer', CountVectorizer(tokenizer=custom_tokenizer, ngram_range=(1, 2), analyzer='word', token_pattern=None)), \n",
    "    ('to_dense', FunctionTransformer(lambda x: x.toarray(), accept_sparse=True)),\n",
    "    ('lr', LogisticRegression())\n",
    "])"
   ]
  },
  {
   "cell_type": "code",
   "execution_count": 182,
   "id": "69b00bd4-6f80-4c89-8270-56a22c6eda20",
   "metadata": {},
   "outputs": [],
   "source": [
    "params = {'lr__penalty': ['l1'], 'lr__solver': ['liblinear']}"
   ]
  },
  {
   "cell_type": "code",
   "execution_count": 183,
   "id": "a5f25e15-4f31-471a-8115-be45debc6eee",
   "metadata": {},
   "outputs": [],
   "source": [
    "clf4 = GridSearchCV(pipe4, params, scoring='roc_auc')\n",
    "\n",
    "search4 = clf4.fit(X_both_train, y_both_train_binary)"
   ]
  },
  {
   "cell_type": "code",
   "execution_count": 184,
   "id": "887f5e75-0a38-438d-8b77-97b6142f188e",
   "metadata": {},
   "outputs": [],
   "source": [
    "pipe4 = Pipeline([\n",
    "    ('count_vectorizer', CountVectorizer(tokenizer=custom_tokenizer, ngram_range=(1, 2), analyzer='word', token_pattern=None)), \n",
    "    ('to_dense', FunctionTransformer(lambda x: x.toarray(), accept_sparse=True)),\n",
    "    ('lr', LogisticRegression(penalty='l1', solver='liblinear'))\n",
    "])"
   ]
  },
  {
   "cell_type": "code",
   "execution_count": 185,
   "id": "85d84068-50d6-4f47-a64c-a51910929414",
   "metadata": {},
   "outputs": [
    {
     "name": "stdout",
     "output_type": "stream",
     "text": [
      "Calculating bootstrap estimates for 1024 bootstrap samples\n"
     ]
    },
    {
     "name": "stderr",
     "output_type": "stream",
     "text": [
      "Calculating estimates: 100%|██████████████| 1024/1024 [00:00<00:00, 1398.87it/s]\n"
     ]
    },
    {
     "name": "stdout",
     "output_type": "stream",
     "text": [
      "Calculating bootstrap estimates for 1024 bootstrap samples\n"
     ]
    },
    {
     "name": "stderr",
     "output_type": "stream",
     "text": [
      "Calculating estimates: 100%|██████████████| 1024/1024 [00:00<00:00, 2026.82it/s]\n"
     ]
    },
    {
     "name": "stdout",
     "output_type": "stream",
     "text": [
      "Calculating bootstrap estimates for 1024 bootstrap samples\n"
     ]
    },
    {
     "name": "stderr",
     "output_type": "stream",
     "text": [
      "Calculating estimates: 100%|██████████████| 1024/1024 [00:00<00:00, 1653.30it/s]\n"
     ]
    }
   ],
   "source": [
    "df_results4, fpr4, tpr4, threshold4 = run_performance_estimate_pipeline(pipe4, \n",
    "                                                                        X_both_train, \n",
    "                                                                        y_both_train_binary, \n",
    "                                                                        X_both_test, \n",
    "                                                                        y_both_test_binary, \n",
    "                                                                        cv=10, \n",
    "                                                                        scoring=scoring, \n",
    "                                                                        num_bootstrap_samples=1024, \n",
    "                                                                        ci=0.95)\n",
    "\n",
    "df_results4_m, fpr4_m, tpr4_m, threshold4_m = run_performance_estimate_pipeline(pipe4, \n",
    "                                                                                X_both_train, \n",
    "                                                                                y_both_train_binary, \n",
    "                                                                                X_m_test, \n",
    "                                                                                y_m_test_binary, \n",
    "                                                                                cv=10, \n",
    "                                                                                scoring=scoring, \n",
    "                                                                                num_bootstrap_samples=1024, \n",
    "                                                                                ci=0.95)\n",
    "\n",
    "# female\n",
    "df_results4_f, fpr4_f, tpr4_f, threshold4_f = run_performance_estimate_pipeline(pipe4, \n",
    "                                                                                X_both_train, \n",
    "                                                                                y_both_train_binary, \n",
    "                                                                                X_f_test, \n",
    "                                                                                y_f_test_binary, \n",
    "                                                                                cv=10, \n",
    "                                                                                scoring=scoring, \n",
    "                                                                                num_bootstrap_samples=1024, \n",
    "                                                                                ci=0.95)"
   ]
  },
  {
   "cell_type": "code",
   "execution_count": 186,
   "id": "5d3158aa-e68b-4e5f-b98c-257e8db93639",
   "metadata": {},
   "outputs": [
    {
     "data": {
      "image/png": "[encoded data removed]",
      "text/plain": [
       "<Figure size 600x400 with 1 Axes>"
      ]
     },
     "metadata": {},
     "output_type": "display_data"
    }
   ],
   "source": [
    "# Plot ROC Curve\n",
    "roc_auc4 = df_results4.query('metric == \"auc\"')['mean'].values[0].item()\n",
    "roc_auc4_m = df_results4_m.query('metric == \"auc\"')['mean'].values[0].item()\n",
    "roc_auc4_f = df_results4_f.query('metric == \"auc\"')['mean'].values[0].item()\n",
    "\n",
    "plt.figure(figsize=(6, 4))\n",
    "plt.plot(fpr4, tpr4, color=\"black\", lw=2, label=f\"ROC curve (AUC = {roc_auc4:.2f})\")\n",
    "plt.plot(fpr4_m, tpr4_m, color=\"blue\", lw=2, label=f\"M ROC curve (AUC = {roc_auc4_m:.2f})\")\n",
    "plt.plot(fpr4_f, tpr4_f, color=\"orange\", lw=2, label=f\"F ROC curve (AUC = {roc_auc4_f:.2f})\")\n",
    "plt.xlim([0.0, 1.0])\n",
    "plt.ylim([0.0, 1.05])\n",
    "plt.xlabel(\"False Positive Rate\")\n",
    "plt.ylabel(\"True Positive Rate\") \n",
    "plt.title(\"ROC Curve (Logistic Regression)\")\n",
    "plt.legend(loc=\"lower right\")\n",
    "plt.tight_layout()\n",
    "plt.savefig('../outputs/210625/roc_curve_lr_210625.png')\n",
    "plt.show()"
   ]
  },
  {
   "cell_type": "code",
   "execution_count": 187,
   "id": "e6408d80-92e1-44e2-935b-12a712bf5a86",
   "metadata": {},
   "outputs": [],
   "source": [
    "# include the gender and the ML model\n",
    "df_results4 = df_results4.assign(model='Logistic Regression').assign(gender='all')\n",
    "df_results4_m = df_results4_m.assign(model='Logistic Regression').assign(gender='male')\n",
    "df_results4_f = df_results4_f.assign(model='Logistic Regression').assign(gender='female')"
   ]
  },
  {
   "cell_type": "markdown",
   "id": "de0846df-3e95-4a94-9bb9-5a0f4f514fb7",
   "metadata": {},
   "source": [
    "### 6.5.2. Feature importances"
   ]
  },
  {
   "cell_type": "code",
   "execution_count": 188,
   "id": "a7310f06-dc55-47af-af0f-5f214000a586",
   "metadata": {},
   "outputs": [],
   "source": [
    "# which features are relevant?\n",
    "coefs4 = pipe4['lr'].coef_\n",
    "\n",
    "# all the features from the model\n",
    "feature_names4 = pipe4['count_vectorizer'].get_feature_names_out()\n",
    "main_features4 = np.where(coefs4 != 0)[1] # features that have non-zero coefficients\n",
    "\n",
    "# coefficients and corresponding features\n",
    "main_coefs4 = coefs4[0, main_features4]\n",
    "main_feature_names4 = feature_names4[main_features4]\n",
    "\n",
    "# sort these\n",
    "sorted_indexes4 = np.argsort(main_coefs4)[::-1]\n",
    "main_coefs_sorted4 = main_coefs4[sorted_indexes4]\n",
    "main_feature_names_sorted4 = main_feature_names4[sorted_indexes4]\n",
    "\n",
    "# separate out into positive and negative features\n",
    "main_coefs_positive4 = main_coefs_sorted4[main_coefs_sorted4 > 0]\n",
    "main_features_positive4 = main_feature_names_sorted4[main_coefs_sorted4 > 0]\n",
    "\n",
    "main_coefs_negative4 = main_coefs_sorted4[main_coefs_sorted4 < 0]\n",
    "main_features_negative4 = main_feature_names_sorted4[main_coefs_sorted4 < 0]"
   ]
  },
  {
   "cell_type": "code",
   "execution_count": 189,
   "id": "4bc40e4f-b9e1-4ce7-81a7-87e06e66e9ef",
   "metadata": {},
   "outputs": [],
   "source": [
    "num_features_to_plot = 32\n",
    "\n",
    "coefs1 = main_coefs_sorted4[:num_features_to_plot]\n",
    "coefs2 = main_coefs_sorted4[-num_features_to_plot:][::-1]\n",
    "\n",
    "labels1 = main_feature_names_sorted4[:num_features_to_plot]\n",
    "labels2 = main_feature_names_sorted4[-num_features_to_plot:][::-1]"
   ]
  },
  {
   "cell_type": "code",
   "execution_count": 190,
   "id": "fd24cb76-1c0a-4485-a04b-c99abc60615e",
   "metadata": {},
   "outputs": [
    {
     "data": {
      "image/png": "[encoded data removed]",
      "text/plain": [
       "<Figure size 800x600 with 2 Axes>"
      ]
     },
     "metadata": {},
     "output_type": "display_data"
    }
   ],
   "source": [
    "import matplotlib.pyplot as plt\n",
    "import numpy as np\n",
    "\n",
    "# Create position indexes for features\n",
    "y_pos = np.arange(num_features_to_plot)\n",
    "bar_height = 0.8\n",
    "\n",
    "fig, ax = plt.subplots(figsize=(8, 6))\n",
    "\n",
    "# Plot first set\n",
    "ax.barh(y_pos, coefs1[::-1], height=bar_height, color='blue')\n",
    "\n",
    "# Plot second set\n",
    "ax.barh(y_pos, coefs2[::-1], height=bar_height, color='red')\n",
    "\n",
    "# Labels and ticks\n",
    "ax.set_yticks(y_pos)\n",
    "ax.set_yticklabels(labels1[::-1])\n",
    "\n",
    "# Right y-axis with different labels\n",
    "ax2 = ax.twinx()\n",
    "ax2.set_ylim(ax.get_ylim())  # match y-limits\n",
    "ax2.set_yticks(y_pos)\n",
    "ax2.set_yticklabels(labels2[::-1])\n",
    "\n",
    "plt.title('Feature importances\\nblue: less likely to be UWL\\nred: more likely to be UWL')\n",
    "plt.tight_layout()\n",
    "plt.savefig('../outputs/210625/feature_importances_32_lr.png')\n",
    "plt.show()\n"
   ]
  },
  {
   "cell_type": "markdown",
   "id": "c450a082-30d5-4f6e-a128-687067872924",
   "metadata": {},
   "source": [
    "## 6.6. ClinicalBERT"
   ]
  },
  {
   "cell_type": "code",
   "execution_count": 191,
   "id": "2d7befb2-1720-4d2e-bc84-a1a38fb013c8",
   "metadata": {},
   "outputs": [],
   "source": [
    "import yaml\n",
    "\n",
    "import torch\n",
    "import numpy as np\n",
    "import pandas as pd\n",
    "\n",
    "import matplotlib.pyplot as plt\n",
    "\n",
    "import torch\n",
    "\n",
    "from sklearn.metrics import confusion_matrix\n",
    "\n",
    "import evaluate\n",
    "from datasets import load_dataset, Dataset, DatasetDict\n",
    "from transformers import (\n",
    "    AutoTokenizer,\n",
    "    AutoModelForSequenceClassification,\n",
    "    TrainingArguments,\n",
    "    Trainer,\n",
    "    pipeline\n",
    ")\n",
    "\n",
    "from transformers import DataCollatorWithPadding"
   ]
  },
  {
   "cell_type": "code",
   "execution_count": 192,
   "id": "47ba4f34-4eb5-4893-b443-fb0f74a86c36",
   "metadata": {},
   "outputs": [],
   "source": [
    "torch.mps.empty_cache()\n",
    "\n",
    "# Load the YAML file\n",
    "with open(\"/Users/alexlee/Desktop/Coding/ds_projects/info.yaml\", \"r\") as file:\n",
    "    config = yaml.safe_load(file)\n",
    "\n",
    "# Access the token\n",
    "access_token = config[\"api\"][\"access_token\"]"
   ]
  },
  {
   "cell_type": "code",
   "execution_count": 193,
   "id": "c8038e20-d979-44c8-b73b-689a43b275f6",
   "metadata": {},
   "outputs": [],
   "source": [
    "folder = '/Users/alexlee/Desktop/Projects/data_connect/uwl_phenotyping/data'\n",
    "\n",
    "# actual data\n",
    "df_all_temp = (\n",
    "    pd.read_csv(f'{folder}/reasons_cleaned_230325.csv')\n",
    "    .assign(label=lambda df_: df_.label - 1)\n",
    "    .assign(label=lambda df_: df_.label_binary)\n",
    ")"
   ]
  },
  {
   "cell_type": "code",
   "execution_count": 194,
   "id": "80055643-5be2-4900-8088-f3cda2d07033",
   "metadata": {},
   "outputs": [],
   "source": [
    "# for testing performance with gender\n",
    "df_train = df_all_gender.query('source == \"nps\"')\n",
    "df_test = df_all_gender.query('source == \"patron\"')\n",
    "\n",
    "# for testing performance ignoring gender\n",
    "df_train_all = df_train.loc[:, ['text', 'label', 'label_binary', 'source', 'text_processed']].drop_duplicates()\n",
    "df_test_all = df_test.loc[:, ['text', 'label', 'label_binary', 'source', 'text_processed']].drop_duplicates()"
   ]
  },
  {
   "cell_type": "code",
   "execution_count": 195,
   "id": "a2ed61bb-23c1-40b4-b844-3d2662159468",
   "metadata": {},
   "outputs": [],
   "source": [
    "# train on nps and test on patron: old. Use the training and test sets from df_all_gender\n",
    "df_train = df_all_temp.query('data_source==\"medicineinsight\"')\n",
    "df_test = df_all_temp.query('data_source==\"patron\"')"
   ]
  },
  {
   "cell_type": "code",
   "execution_count": 196,
   "id": "e535b798-5f17-447a-9ef2-2e3abd28f0cb",
   "metadata": {},
   "outputs": [],
   "source": [
    "df_train = df_all_gender.query('source == \"nps\"').assign(label=lambda df_: df_.label_binary.astype(int))\n",
    "df_test = df_all_gender.query('source == \"patron\"').assign(label=lambda df_: df_.label_binary.astype(int))\n",
    "\n",
    "train_dataset = Dataset.from_pandas(df_train)\n",
    "test_dataset = Dataset.from_pandas(df_test)\n",
    "\n",
    "# Remove index column if it exists\n",
    "for dataset in [train_dataset, test_dataset]:\n",
    "    if \"__index__\" in dataset.column_names:\n",
    "        dataset = dataset.remove_columns([\"__index__\"])\n",
    "\n",
    "# Create a DatasetDict\n",
    "dataset = DatasetDict({\n",
    "    \"train\": train_dataset,\n",
    "    \"test\": test_dataset\n",
    "})"
   ]
  },
  {
   "cell_type": "code",
   "execution_count": 197,
   "id": "c2cb4d7f-1323-4d90-9784-ec0c61b9eff0",
   "metadata": {},
   "outputs": [
    {
     "data": {
      "application/vnd.jupyter.widget-view+json": {
       "model_id": "ebdf442fed534c2d9aa65ce19a23c81e",
       "version_major": 2,
       "version_minor": 0
      },
      "text/plain": [
       "Map:   0%|          | 0/2557 [00:00<?, ? examples/s]"
      ]
     },
     "metadata": {},
     "output_type": "display_data"
    },
    {
     "name": "stderr",
     "output_type": "stream",
     "text": [
      "Asking to pad to max_length but no maximum length is provided and the model has no predefined maximum length. Default to no padding.\n",
      "Asking to truncate to max_length but no maximum length is provided and the model has no predefined maximum length. Default to no truncation.\n"
     ]
    },
    {
     "data": {
      "application/vnd.jupyter.widget-view+json": {
       "model_id": "6a966a0e5647489eb1a6d787bc991dba",
       "version_major": 2,
       "version_minor": 0
      },
      "text/plain": [
       "Map:   0%|          | 0/827 [00:00<?, ? examples/s]"
      ]
     },
     "metadata": {},
     "output_type": "display_data"
    }
   ],
   "source": [
    "# standard bert tokeniser\n",
    "model_clinical = \"emilyalsentzer/Bio_ClinicalBERT\"\n",
    "model_clinical = \"medicalai/ClinicalBERT\"\n",
    "model_bert_base = \"google-bert/bert-base-cased\"\n",
    "\n",
    "model_name = model_clinical\n",
    "\n",
    "tokenizer = AutoTokenizer.from_pretrained(model_name)\n",
    "\n",
    "def tokenize_function(examples):\n",
    "    \"\"\"\n",
    "    examples: datasets.arrow_dataaset.Dataset\n",
    "    \"\"\"\n",
    "    # tokenise is applied to the processed text rather than the original text\n",
    "    return tokenizer(examples[\"text_processed\"], padding=\"max_length\", truncation=True)\n",
    "    \n",
    "tokenized_datasets = dataset.map(tokenize_function, batched=True)\n",
    "\n",
    "hf_train_dataset = tokenized_datasets[\"train\"].shuffle(seed=40).select(range(1600))\n",
    "hf_eval_dataset = tokenized_datasets[\"train\"].shuffle(seed=40).select(range(1600, 2358))"
   ]
  },
  {
   "cell_type": "code",
   "execution_count": 198,
   "id": "35b6bc05-9448-43ac-affe-c4de534e1c24",
   "metadata": {},
   "outputs": [
    {
     "name": "stderr",
     "output_type": "stream",
     "text": [
      "Some weights of DistilBertForSequenceClassification were not initialized from the model checkpoint at medicalai/ClinicalBERT and are newly initialized: ['classifier.bias', 'classifier.weight', 'pre_classifier.bias', 'pre_classifier.weight']\n",
      "You should probably TRAIN this model on a down-stream task to be able to use it for predictions and inference.\n"
     ]
    }
   ],
   "source": [
    "# this loads the pre-trained model from huggingface and specifies the parameters, e.g., number of output labels\n",
    "model = AutoModelForSequenceClassification.from_pretrained(model_name, num_labels=2, torch_dtype=\"auto\")\n",
    "\n",
    "# 'freezes' all the layers of the network so that they are not updated during training: also doesn't work very well\n",
    "#for param in model.base_model.parameters():\n",
    "#    param.requires_grad = False\n",
    "    \n",
    "# move to mps \n",
    "device = torch.device(\"mps\" if torch.backends.mps.is_available() else \"cpu\")\n",
    "model.to(device)\n",
    "\n",
    "# where to store the results of the training runs\n",
    "training_args = TrainingArguments(output_dir=\"test_trainer\")\n",
    "\n",
    "# define the metric to calculate during training\n",
    "metric = evaluate.load(\"accuracy\")\n",
    "\n",
    "# given a tuple of predictions and labels\n",
    "# this function computes and returns the given metric\n",
    "def compute_metrics(eval_pred):\n",
    "    logits, labels = eval_pred\n",
    "    predictions = np.argmax(logits, axis=-1)\n",
    "    return metric.compute(predictions=predictions, references=labels)"
   ]
  },
  {
   "cell_type": "code",
   "execution_count": 199,
   "id": "d5598083-2151-4542-bb92-25b458b72f3b",
   "metadata": {},
   "outputs": [
    {
     "name": "stderr",
     "output_type": "stream",
     "text": [
      "/var/folders/7h/4cq59zrd6vb2jqwxh3wdk3nw0000gn/T/ipykernel_87171/1377928591.py:15: FutureWarning: `tokenizer` is deprecated and will be removed in version 5.0.0 for `Trainer.__init__`. Use `processing_class` instead.\n",
      "  trainer = Trainer(\n",
      "huggingface/tokenizers: The current process just got forked, after parallelism has already been used. Disabling parallelism to avoid deadlocks...\n",
      "To disable this warning, you can either:\n",
      "\t- Avoid using `tokenizers` before the fork if possible\n",
      "\t- Explicitly set the environment variable TOKENIZERS_PARALLELISM=(true | false)\n",
      "huggingface/tokenizers: The current process just got forked, after parallelism has already been used. Disabling parallelism to avoid deadlocks...\n",
      "To disable this warning, you can either:\n",
      "\t- Avoid using `tokenizers` before the fork if possible\n",
      "\t- Explicitly set the environment variable TOKENIZERS_PARALLELISM=(true | false)\n"
     ]
    }
   ],
   "source": [
    "training_args = TrainingArguments(\n",
    "    output_dir=\"bert_phenotyping_classifier\",\n",
    "    eval_strategy=\"steps\",\n",
    "    logging_strategy='steps',    \n",
    "    num_train_epochs=2,\n",
    "    per_device_eval_batch_size=16,\n",
    "    per_device_train_batch_size=16,\n",
    "    push_to_hub=False,\n",
    "    logging_steps=5,\n",
    "    save_strategy=\"no\",\n",
    "    logging_dir=None,\n",
    "    report_to=None,  \n",
    ")\n",
    "\n",
    "trainer = Trainer(\n",
    "    model=model,\n",
    "    args=training_args,\n",
    "    train_dataset=hf_train_dataset,\n",
    "    eval_dataset=hf_eval_dataset,\n",
    "    tokenizer=tokenizer,\n",
    "    compute_metrics=compute_metrics\n",
    ")"
   ]
  },
  {
   "cell_type": "code",
   "execution_count": 200,
   "id": "164433b3-70c3-42bb-9e88-1ee7e57d93ad",
   "metadata": {},
   "outputs": [
    {
     "name": "stderr",
     "output_type": "stream",
     "text": [
      "\u001b[34m\u001b[1mwandb\u001b[0m: \u001b[33mWARNING\u001b[0m The `run_name` is currently set to the same value as `TrainingArguments.output_dir`. If this was not intended, please specify a different run name by setting the `TrainingArguments.run_name` parameter.\n",
      "huggingface/tokenizers: The current process just got forked, after parallelism has already been used. Disabling parallelism to avoid deadlocks...\n",
      "To disable this warning, you can either:\n",
      "\t- Avoid using `tokenizers` before the fork if possible\n",
      "\t- Explicitly set the environment variable TOKENIZERS_PARALLELISM=(true | false)\n",
      "huggingface/tokenizers: The current process just got forked, after parallelism has already been used. Disabling parallelism to avoid deadlocks...\n",
      "To disable this warning, you can either:\n",
      "\t- Avoid using `tokenizers` before the fork if possible\n",
      "\t- Explicitly set the environment variable TOKENIZERS_PARALLELISM=(true | false)\n",
      "\u001b[34m\u001b[1mwandb\u001b[0m: Using wandb-core as the SDK backend.  Please refer to https://wandb.me/wandb-core for more information.\n",
      "huggingface/tokenizers: The current process just got forked, after parallelism has already been used. Disabling parallelism to avoid deadlocks...\n",
      "To disable this warning, you can either:\n",
      "\t- Avoid using `tokenizers` before the fork if possible\n",
      "\t- Explicitly set the environment variable TOKENIZERS_PARALLELISM=(true | false)\n",
      "\u001b[34m\u001b[1mwandb\u001b[0m: Currently logged in as: \u001b[33majlee3141\u001b[0m (\u001b[33majlee3141-university-of-melbourne\u001b[0m) to \u001b[32mhttps://api.wandb.ai\u001b[0m. Use \u001b[1m`wandb login --relogin`\u001b[0m to force relogin\n",
      "huggingface/tokenizers: The current process just got forked, after parallelism has already been used. Disabling parallelism to avoid deadlocks...\n",
      "To disable this warning, you can either:\n",
      "\t- Avoid using `tokenizers` before the fork if possible\n",
      "\t- Explicitly set the environment variable TOKENIZERS_PARALLELISM=(true | false)\n",
      "huggingface/tokenizers: The current process just got forked, after parallelism has already been used. Disabling parallelism to avoid deadlocks...\n",
      "To disable this warning, you can either:\n",
      "\t- Avoid using `tokenizers` before the fork if possible\n",
      "\t- Explicitly set the environment variable TOKENIZERS_PARALLELISM=(true | false)\n"
     ]
    },
    {
     "data": {
      "text/html": [
       "Tracking run with wandb version 0.19.8"
      ],
      "text/plain": [
       "<IPython.core.display.HTML object>"
      ]
     },
     "metadata": {},
     "output_type": "display_data"
    },
    {
     "data": {
      "text/html": [
       "Run data is saved locally in <code>/Users/alexlee/Desktop/Projects/data_connect/uwl_phenotyping/code/wandb/run-20250622_105050-l9hiqy7h</code>"
      ],
      "text/plain": [
       "<IPython.core.display.HTML object>"
      ]
     },
     "metadata": {},
     "output_type": "display_data"
    },
    {
     "data": {
      "text/html": [
       "Syncing run <strong><a href='https://wandb.ai/ajlee3141-university-of-melbourne/huggingface/runs/l9hiqy7h' target=\"_blank\">bert_phenotyping_classifier</a></strong> to <a href='https://wandb.ai/ajlee3141-university-of-melbourne/huggingface' target=\"_blank\">Weights & Biases</a> (<a href='https://wandb.me/developer-guide' target=\"_blank\">docs</a>)<br>"
      ],
      "text/plain": [
       "<IPython.core.display.HTML object>"
      ]
     },
     "metadata": {},
     "output_type": "display_data"
    },
    {
     "data": {
      "text/html": [
       " View project at <a href='https://wandb.ai/ajlee3141-university-of-melbourne/huggingface' target=\"_blank\">https://wandb.ai/ajlee3141-university-of-melbourne/huggingface</a>"
      ],
      "text/plain": [
       "<IPython.core.display.HTML object>"
      ]
     },
     "metadata": {},
     "output_type": "display_data"
    },
    {
     "data": {
      "text/html": [
       " View run at <a href='https://wandb.ai/ajlee3141-university-of-melbourne/huggingface/runs/l9hiqy7h' target=\"_blank\">https://wandb.ai/ajlee3141-university-of-melbourne/huggingface/runs/l9hiqy7h</a>"
      ],
      "text/plain": [
       "<IPython.core.display.HTML object>"
      ]
     },
     "metadata": {},
     "output_type": "display_data"
    },
    {
     "data": {
      "text/html": [
       "\n",
       "    <div>\n",
       "      \n",
       "      <progress value='200' max='200' style='width:300px; height:20px; vertical-align: middle;'></progress>\n",
       "      [200/200 01:09, Epoch 2/2]\n",
       "    </div>\n",
       "    <table border=\"1\" class=\"dataframe\">\n",
       "  <thead>\n",
       " <tr style=\"text-align: left;\">\n",
       "      <th>Step</th>\n",
       "      <th>Training Loss</th>\n",
       "      <th>Validation Loss</th>\n",
       "      <th>Accuracy</th>\n",
       "    </tr>\n",
       "  </thead>\n",
       "  <tbody>\n",
       "    <tr>\n",
       "      <td>5</td>\n",
       "      <td>0.634300</td>\n",
       "      <td>0.640397</td>\n",
       "      <td>0.643799</td>\n",
       "    </tr>\n",
       "    <tr>\n",
       "      <td>10</td>\n",
       "      <td>0.590000</td>\n",
       "      <td>0.655445</td>\n",
       "      <td>0.643799</td>\n",
       "    </tr>\n",
       "    <tr>\n",
       "      <td>15</td>\n",
       "      <td>0.564600</td>\n",
       "      <td>0.595506</td>\n",
       "      <td>0.643799</td>\n",
       "    </tr>\n",
       "    <tr>\n",
       "      <td>20</td>\n",
       "      <td>0.614800</td>\n",
       "      <td>0.537866</td>\n",
       "      <td>0.736148</td>\n",
       "    </tr>\n",
       "    <tr>\n",
       "      <td>25</td>\n",
       "      <td>0.525200</td>\n",
       "      <td>0.582304</td>\n",
       "      <td>0.732190</td>\n",
       "    </tr>\n",
       "    <tr>\n",
       "      <td>30</td>\n",
       "      <td>0.513800</td>\n",
       "      <td>0.468579</td>\n",
       "      <td>0.766491</td>\n",
       "    </tr>\n",
       "    <tr>\n",
       "      <td>35</td>\n",
       "      <td>0.409500</td>\n",
       "      <td>0.438774</td>\n",
       "      <td>0.795515</td>\n",
       "    </tr>\n",
       "    <tr>\n",
       "      <td>40</td>\n",
       "      <td>0.438800</td>\n",
       "      <td>0.525817</td>\n",
       "      <td>0.771768</td>\n",
       "    </tr>\n",
       "    <tr>\n",
       "      <td>45</td>\n",
       "      <td>0.486300</td>\n",
       "      <td>0.402696</td>\n",
       "      <td>0.823219</td>\n",
       "    </tr>\n",
       "    <tr>\n",
       "      <td>50</td>\n",
       "      <td>0.353000</td>\n",
       "      <td>0.398367</td>\n",
       "      <td>0.823219</td>\n",
       "    </tr>\n",
       "    <tr>\n",
       "      <td>55</td>\n",
       "      <td>0.265100</td>\n",
       "      <td>0.532349</td>\n",
       "      <td>0.781003</td>\n",
       "    </tr>\n",
       "    <tr>\n",
       "      <td>60</td>\n",
       "      <td>0.501500</td>\n",
       "      <td>0.573646</td>\n",
       "      <td>0.782322</td>\n",
       "    </tr>\n",
       "    <tr>\n",
       "      <td>65</td>\n",
       "      <td>0.450400</td>\n",
       "      <td>0.394305</td>\n",
       "      <td>0.837731</td>\n",
       "    </tr>\n",
       "    <tr>\n",
       "      <td>70</td>\n",
       "      <td>0.387200</td>\n",
       "      <td>0.398957</td>\n",
       "      <td>0.813984</td>\n",
       "    </tr>\n",
       "    <tr>\n",
       "      <td>75</td>\n",
       "      <td>0.463600</td>\n",
       "      <td>0.353990</td>\n",
       "      <td>0.839050</td>\n",
       "    </tr>\n",
       "    <tr>\n",
       "      <td>80</td>\n",
       "      <td>0.380900</td>\n",
       "      <td>0.373279</td>\n",
       "      <td>0.839050</td>\n",
       "    </tr>\n",
       "    <tr>\n",
       "      <td>85</td>\n",
       "      <td>0.352900</td>\n",
       "      <td>0.372917</td>\n",
       "      <td>0.837731</td>\n",
       "    </tr>\n",
       "    <tr>\n",
       "      <td>90</td>\n",
       "      <td>0.302000</td>\n",
       "      <td>0.351098</td>\n",
       "      <td>0.844327</td>\n",
       "    </tr>\n",
       "    <tr>\n",
       "      <td>95</td>\n",
       "      <td>0.319700</td>\n",
       "      <td>0.340253</td>\n",
       "      <td>0.850923</td>\n",
       "    </tr>\n",
       "    <tr>\n",
       "      <td>100</td>\n",
       "      <td>0.324300</td>\n",
       "      <td>0.370108</td>\n",
       "      <td>0.844327</td>\n",
       "    </tr>\n",
       "    <tr>\n",
       "      <td>105</td>\n",
       "      <td>0.259400</td>\n",
       "      <td>0.357761</td>\n",
       "      <td>0.848285</td>\n",
       "    </tr>\n",
       "    <tr>\n",
       "      <td>110</td>\n",
       "      <td>0.196900</td>\n",
       "      <td>0.345758</td>\n",
       "      <td>0.864116</td>\n",
       "    </tr>\n",
       "    <tr>\n",
       "      <td>115</td>\n",
       "      <td>0.192400</td>\n",
       "      <td>0.344644</td>\n",
       "      <td>0.852243</td>\n",
       "    </tr>\n",
       "    <tr>\n",
       "      <td>120</td>\n",
       "      <td>0.190600</td>\n",
       "      <td>0.374063</td>\n",
       "      <td>0.866755</td>\n",
       "    </tr>\n",
       "    <tr>\n",
       "      <td>125</td>\n",
       "      <td>0.189200</td>\n",
       "      <td>0.393349</td>\n",
       "      <td>0.862797</td>\n",
       "    </tr>\n",
       "    <tr>\n",
       "      <td>130</td>\n",
       "      <td>0.186500</td>\n",
       "      <td>0.392028</td>\n",
       "      <td>0.868074</td>\n",
       "    </tr>\n",
       "    <tr>\n",
       "      <td>135</td>\n",
       "      <td>0.244800</td>\n",
       "      <td>0.402831</td>\n",
       "      <td>0.861478</td>\n",
       "    </tr>\n",
       "    <tr>\n",
       "      <td>140</td>\n",
       "      <td>0.196500</td>\n",
       "      <td>0.392014</td>\n",
       "      <td>0.862797</td>\n",
       "    </tr>\n",
       "    <tr>\n",
       "      <td>145</td>\n",
       "      <td>0.268700</td>\n",
       "      <td>0.377056</td>\n",
       "      <td>0.862797</td>\n",
       "    </tr>\n",
       "    <tr>\n",
       "      <td>150</td>\n",
       "      <td>0.256400</td>\n",
       "      <td>0.361271</td>\n",
       "      <td>0.861478</td>\n",
       "    </tr>\n",
       "    <tr>\n",
       "      <td>155</td>\n",
       "      <td>0.182600</td>\n",
       "      <td>0.357295</td>\n",
       "      <td>0.857520</td>\n",
       "    </tr>\n",
       "    <tr>\n",
       "      <td>160</td>\n",
       "      <td>0.224400</td>\n",
       "      <td>0.362763</td>\n",
       "      <td>0.865435</td>\n",
       "    </tr>\n",
       "    <tr>\n",
       "      <td>165</td>\n",
       "      <td>0.205800</td>\n",
       "      <td>0.383814</td>\n",
       "      <td>0.860158</td>\n",
       "    </tr>\n",
       "    <tr>\n",
       "      <td>170</td>\n",
       "      <td>0.150300</td>\n",
       "      <td>0.409333</td>\n",
       "      <td>0.856201</td>\n",
       "    </tr>\n",
       "    <tr>\n",
       "      <td>175</td>\n",
       "      <td>0.075600</td>\n",
       "      <td>0.427172</td>\n",
       "      <td>0.849604</td>\n",
       "    </tr>\n",
       "    <tr>\n",
       "      <td>180</td>\n",
       "      <td>0.137400</td>\n",
       "      <td>0.452306</td>\n",
       "      <td>0.854881</td>\n",
       "    </tr>\n",
       "    <tr>\n",
       "      <td>185</td>\n",
       "      <td>0.139800</td>\n",
       "      <td>0.463800</td>\n",
       "      <td>0.850923</td>\n",
       "    </tr>\n",
       "    <tr>\n",
       "      <td>190</td>\n",
       "      <td>0.253500</td>\n",
       "      <td>0.465574</td>\n",
       "      <td>0.850923</td>\n",
       "    </tr>\n",
       "    <tr>\n",
       "      <td>195</td>\n",
       "      <td>0.213700</td>\n",
       "      <td>0.456006</td>\n",
       "      <td>0.853562</td>\n",
       "    </tr>\n",
       "    <tr>\n",
       "      <td>200</td>\n",
       "      <td>0.136400</td>\n",
       "      <td>0.452080</td>\n",
       "      <td>0.852243</td>\n",
       "    </tr>\n",
       "  </tbody>\n",
       "</table><p>"
      ],
      "text/plain": [
       "<IPython.core.display.HTML object>"
      ]
     },
     "metadata": {},
     "output_type": "display_data"
    },
    {
     "data": {
      "text/plain": [
       "TrainOutput(global_step=200, training_loss=0.3194693736732006, metrics={'train_runtime': 72.1545, 'train_samples_per_second': 44.349, 'train_steps_per_second': 2.772, 'total_flos': 20383420968192.0, 'train_loss': 0.3194693736732006, 'epoch': 2.0})"
      ]
     },
     "execution_count": 200,
     "metadata": {},
     "output_type": "execute_result"
    }
   ],
   "source": [
    "trainer.train()"
   ]
  },
  {
   "cell_type": "code",
   "execution_count": 201,
   "id": "97fd14d6-3c98-4ae6-97c2-3685b4b375b8",
   "metadata": {},
   "outputs": [],
   "source": [
    "logs = trainer.state.log_history\n",
    "\n",
    "train_loss = []\n",
    "eval_loss = []\n",
    "\n",
    "eval_acc = []\n",
    "\n",
    "for log in logs:\n",
    "    if 'loss' in log:\n",
    "        train_loss.append(log['loss'])\n",
    "    if 'eval_loss' in log:\n",
    "        eval_loss.append(log['eval_loss'])\n",
    "    if 'eval_accuracy' in log:\n",
    "        eval_acc.append(log['eval_accuracy'])"
   ]
  },
  {
   "cell_type": "code",
   "execution_count": 202,
   "id": "1289d061-92c2-419f-91ea-1845bbde657e",
   "metadata": {},
   "outputs": [
    {
     "data": {
      "image/png": "[encoded data removed]",
      "text/plain": [
       "<Figure size 600x400 with 1 Axes>"
      ]
     },
     "metadata": {},
     "output_type": "display_data"
    }
   ],
   "source": [
    "plt.figure(figsize=(6, 4))\n",
    "\n",
    "plt.plot(train_loss, label=\"Training Loss\")\n",
    "plt.plot(eval_loss, label=\"Validation Loss\")\n",
    "\n",
    "plt.xlabel(\"Steps\")\n",
    "plt.ylabel(\"Loss\")\n",
    "plt.title(\"Learning Curves (Loss)\")\n",
    "plt.legend()\n",
    "plt.grid(True)\n",
    "plt.tight_layout()\n",
    "plt.savefig('../outputs/210625/loss_curves_clinical_bert_210625.png')\n",
    "plt.show()"
   ]
  },
  {
   "cell_type": "code",
   "execution_count": 203,
   "id": "4936b45b-c2c2-49e7-8a7b-4748ea85c197",
   "metadata": {},
   "outputs": [
    {
     "data": {
      "image/png": "[encoded data removed]",
      "text/plain": [
       "<Figure size 600x400 with 1 Axes>"
      ]
     },
     "metadata": {},
     "output_type": "display_data"
    }
   ],
   "source": [
    "plt.figure(figsize=(6, 4))\n",
    "\n",
    "plt.plot(eval_acc, label=\"Training Accuracy\")\n",
    "\n",
    "plt.xlabel(\"Steps\")\n",
    "plt.ylabel(\"Accuracy\")\n",
    "plt.title(\"Learning Curves (Accuracy)\")\n",
    "plt.legend()\n",
    "plt.grid(True)\n",
    "plt.tight_layout()\n",
    "plt.savefig('../outputs/210625/accuracy_curves_clinical_bert_210625.png')\n",
    "plt.show()"
   ]
  },
  {
   "cell_type": "code",
   "execution_count": 204,
   "id": "3cc70ac8-a996-43b7-9c7e-a4b4e6db9e24",
   "metadata": {},
   "outputs": [],
   "source": [
    "# function that makes predictions given a model and texts\n",
    "def predict(texts, model):\n",
    "    # Tokenize the input text\n",
    "    inputs = tokenizer(texts, padding=True, truncation=True, return_tensors=\"pt\")\n",
    "\n",
    "    # Run the model\n",
    "    with torch.no_grad():\n",
    "        device = torch.device(\"cpu\")  # Ensure using MPS\n",
    "        model = model.to(device)\n",
    "        inputs = inputs.to(device)\n",
    "        outputs = model(**inputs)\n",
    "\n",
    "    # Get predictions\n",
    "    logits = outputs.logits\n",
    "    probabilities = torch.nn.functional.softmax(logits, dim=-1)\n",
    "    predictions = torch.argmax(probabilities, dim=-1).tolist()\n",
    "\n",
    "    return predictions, probabilities"
   ]
  },
  {
   "cell_type": "code",
   "execution_count": 205,
   "id": "740b5a63-bf37-4ac4-8c85-825c92982190",
   "metadata": {},
   "outputs": [
    {
     "data": {
      "application/vnd.jupyter.widget-view+json": {
       "model_id": "a86108643b954110958d6f7475a9623c",
       "version_major": 2,
       "version_minor": 0
      },
      "text/plain": [
       "Filter:   0%|          | 0/2557 [00:00<?, ? examples/s]"
      ]
     },
     "metadata": {},
     "output_type": "display_data"
    },
    {
     "data": {
      "application/vnd.jupyter.widget-view+json": {
       "model_id": "493883153e974e38826447e43f406a98",
       "version_major": 2,
       "version_minor": 0
      },
      "text/plain": [
       "Filter:   0%|          | 0/827 [00:00<?, ? examples/s]"
      ]
     },
     "metadata": {},
     "output_type": "display_data"
    },
    {
     "data": {
      "application/vnd.jupyter.widget-view+json": {
       "model_id": "d7e731d200dc464d985938848254f45b",
       "version_major": 2,
       "version_minor": 0
      },
      "text/plain": [
       "Filter:   0%|          | 0/2557 [00:00<?, ? examples/s]"
      ]
     },
     "metadata": {},
     "output_type": "display_data"
    },
    {
     "data": {
      "application/vnd.jupyter.widget-view+json": {
       "model_id": "d706cbc8199947328d26a211223b3c49",
       "version_major": 2,
       "version_minor": 0
      },
      "text/plain": [
       "Filter:   0%|          | 0/827 [00:00<?, ? examples/s]"
      ]
     },
     "metadata": {},
     "output_type": "display_data"
    },
    {
     "data": {
      "application/vnd.jupyter.widget-view+json": {
       "model_id": "48d52d323cc0461982c553ef7f66a8e1",
       "version_major": 2,
       "version_minor": 0
      },
      "text/plain": [
       "Filter:   0%|          | 0/2557 [00:00<?, ? examples/s]"
      ]
     },
     "metadata": {},
     "output_type": "display_data"
    },
    {
     "data": {
      "application/vnd.jupyter.widget-view+json": {
       "model_id": "15062f49ff8e4efbb4ed827781606f7b",
       "version_major": 2,
       "version_minor": 0
      },
      "text/plain": [
       "Filter:   0%|          | 0/827 [00:00<?, ? examples/s]"
      ]
     },
     "metadata": {},
     "output_type": "display_data"
    },
    {
     "data": {
      "application/vnd.jupyter.widget-view+json": {
       "model_id": "ceba818ce1414f74aa8f40cebe9d1990",
       "version_major": 2,
       "version_minor": 0
      },
      "text/plain": [
       "Filter:   0%|          | 0/2557 [00:00<?, ? examples/s]"
      ]
     },
     "metadata": {},
     "output_type": "display_data"
    },
    {
     "data": {
      "application/vnd.jupyter.widget-view+json": {
       "model_id": "29e94ee0a9e54b76a02c1a8eb2859249",
       "version_major": 2,
       "version_minor": 0
      },
      "text/plain": [
       "Filter:   0%|          | 0/827 [00:00<?, ? examples/s]"
      ]
     },
     "metadata": {},
     "output_type": "display_data"
    }
   ],
   "source": [
    "# apply prediction function to the test data\n",
    "texts_test = dataset['test']['text_processed']\n",
    "texts_test_m = dataset.filter(lambda example: example['gender'] == 2)['test']['text_processed']\n",
    "texts_test_f = dataset.filter(lambda example: example['gender'] == 1)['test']['text_processed']\n",
    "\n",
    "preds_test5, probs_test5 = predict(texts_test, model)\n",
    "preds_test5_m, probs_test5_m = predict(texts_test_m, model)\n",
    "preds_test5_f, probs_test5_f = predict(texts_test_f, model)\n",
    "\n",
    "# convert predictions to np.array\n",
    "preds_test5 = np.array(preds_test5)\n",
    "preds_test5_m = np.array(preds_test5_m)\n",
    "preds_test5_f = np.array(preds_test5_f)\n",
    "\n",
    "# the true labels\n",
    "true_labels_test = np.array(dataset['test']['label'])\n",
    "true_labels_test_f = np.array(dataset.filter(lambda example: example[\"gender\"] == 1)['test']['label'])\n",
    "true_labels_test_m = np.array(dataset.filter(lambda example: example[\"gender\"] == 2)['test']['label'])\n",
    "\n",
    "# overall accuracy\n",
    "acc_test5 = (true_labels_test == preds_test5).mean()\n",
    "acc_test5_m = (true_labels_test_m == preds_test5_m).mean()\n",
    "acc_test5_f = (true_labels_test_f == preds_test5_f).mean()\n",
    "\n",
    "# create a confusion matrix\n",
    "cm_test = confusion_matrix(true_labels_test, preds_test5)\n",
    "cm_test_f = confusion_matrix(true_labels_test_f, preds_test5_f)\n",
    "cm_test_m = confusion_matrix(true_labels_test_m, preds_test5_m)\n",
    "\n",
    "# ROC curves\n",
    "fpr5, tpr5, threshold5 = roc_curve(true_labels_test, probs_test5[:, 1])\n",
    "fpr5_m, tpr5_m, threshold5_m = roc_curve(true_labels_test_m, probs_test5_m[:, 1])\n",
    "fpr5_f, tpr5_f, threshold5_f = roc_curve(true_labels_test_f, probs_test5_f[:, 1])\n",
    "\n",
    "roc_auc5 = roc_auc_score(true_labels_test, probs_test5[:, 1])\n",
    "roc_auc5_m = roc_auc_score(true_labels_test_m, probs_test5_m[:, 1])\n",
    "roc_auc5_f = roc_auc_score(true_labels_test_f, probs_test5_f[:, 1])"
   ]
  },
  {
   "cell_type": "code",
   "execution_count": 206,
   "id": "64d93f6c-7fd9-430a-9d02-464b1ee17266",
   "metadata": {},
   "outputs": [
    {
     "name": "stdout",
     "output_type": "stream",
     "text": [
      "Calculating bootstrap estimates for 1024 bootstrap samples\n"
     ]
    },
    {
     "name": "stderr",
     "output_type": "stream",
     "text": [
      "Calculating estimates: 100%|██████████████| 1024/1024 [00:00<00:00, 1303.90it/s]\n"
     ]
    },
    {
     "name": "stdout",
     "output_type": "stream",
     "text": [
      "Calculating bootstrap estimates for 1024 bootstrap samples\n"
     ]
    },
    {
     "name": "stderr",
     "output_type": "stream",
     "text": [
      "Calculating estimates: 100%|██████████████| 1024/1024 [00:00<00:00, 2000.39it/s]\n"
     ]
    },
    {
     "name": "stdout",
     "output_type": "stream",
     "text": [
      "Calculating bootstrap estimates for 1024 bootstrap samples\n"
     ]
    },
    {
     "name": "stderr",
     "output_type": "stream",
     "text": [
      "Calculating estimates: 100%|██████████████| 1024/1024 [00:00<00:00, 1626.98it/s]\n"
     ]
    }
   ],
   "source": [
    "texts_test = dataset['test']['text_processed']\n",
    "preds_test5, probs_test5 = predict(texts_test, model)\n",
    "\n",
    "sample5 = list(zip(true_labels_test, probs_test5[:, 1]))\n",
    "sample5_m = list(zip(true_labels_test_m, probs_test5_m[:, 1]))\n",
    "sample5_f = list(zip(true_labels_test_f, probs_test5_f[:, 1]))\n",
    "\n",
    "results_pipe5 = calculate_bootstrap_ci(sample5, num_bootstrap_samples=1024, ci=0.95)\n",
    "results_pipe5_m = calculate_bootstrap_ci(sample5_m, num_bootstrap_samples=1024, ci=0.95)\n",
    "results_pipe5_f = calculate_bootstrap_ci(sample5_f, num_bootstrap_samples=1024, ci=0.95)"
   ]
  },
  {
   "cell_type": "code",
   "execution_count": 207,
   "id": "030d91f4-0490-4fc5-a318-794872bb0cf3",
   "metadata": {},
   "outputs": [],
   "source": [
    "df_results5 = pd.DataFrame(results_pipe5).T.rename(columns={0: 'mean', 1: 'left_ci', 2: 'right_ci'})\n",
    "df_results5.index.name = 'metric'\n",
    "df_results5.reset_index(inplace=True)\n",
    "\n",
    "df_results5_f = pd.DataFrame(results_pipe5_f).T.rename(columns={0: 'mean', 1: 'left_ci', 2: 'right_ci'})\n",
    "df_results5_f.index.name = 'metric'\n",
    "df_results5_f.reset_index(inplace=True)\n",
    "\n",
    "df_results5_m = pd.DataFrame(results_pipe5_m).T.rename(columns={0: 'mean', 1: 'left_ci', 2: 'right_ci'})\n",
    "df_results5_m.index.name = 'metric'\n",
    "df_results5_m.reset_index(inplace=True)"
   ]
  },
  {
   "cell_type": "code",
   "execution_count": 208,
   "id": "e1b3494f-dcc0-4aed-a2af-66ce80b14dc3",
   "metadata": {},
   "outputs": [],
   "source": [
    "# include the gender and the ML model\n",
    "df_results5 = df_results5.assign(model='ClinicalBERT').assign(gender='all')\n",
    "df_results5_m = df_results5_m.assign(model='ClinicalBERT').assign(gender='male')\n",
    "df_results5_f = df_results5_f.assign(model='ClinicalBERT').assign(gender='female')"
   ]
  },
  {
   "cell_type": "code",
   "execution_count": 209,
   "id": "8bf5a418-2d8f-4061-85d6-4b382db8257b",
   "metadata": {},
   "outputs": [
    {
     "data": {
      "image/png": "[encoded data removed]",
      "text/plain": [
       "<Figure size 600x400 with 1 Axes>"
      ]
     },
     "metadata": {},
     "output_type": "display_data"
    }
   ],
   "source": [
    "# Plot ROC Curve\n",
    "roc_auc5 = df_results5.query('metric == \"auc\"')['mean'].values[0].item()\n",
    "roc_auc5_m = df_results5_m.query('metric == \"auc\"')['mean'].values[0].item()\n",
    "roc_auc5_f = df_results5_f.query('metric == \"auc\"')['mean'].values[0].item()\n",
    "\n",
    "plt.figure(figsize=(6, 4))\n",
    "plt.plot(fpr5, tpr5, color=\"black\", lw=2, label=f\"ROC curve (AUC = {roc_auc5:.2f})\")\n",
    "plt.plot(fpr5_m, tpr5_m, color=\"blue\", lw=2, label=f\"M ROC curve (AUC = {roc_auc5_m:.2f})\")\n",
    "plt.plot(fpr5_f, tpr5_f, color=\"orange\", lw=2, label=f\"F ROC curve (AUC = {roc_auc5_f:.2f})\")\n",
    "plt.xlim([0.0, 1.0])\n",
    "plt.ylim([0.0, 1.05])\n",
    "plt.xlabel(\"False Positive Rate\")\n",
    "plt.ylabel(\"True Positive Rate\")\n",
    "plt.title(\"ROC Curve (ClinicalBERT)\")\n",
    "plt.legend(loc=\"lower right\")\n",
    "plt.tight_layout()\n",
    "plt.savefig('../outputs/210625/roc_curve_cb_210625.png')\n",
    "plt.show()"
   ]
  },
  {
   "cell_type": "markdown",
   "id": "77767f2f-1edd-4505-86bc-3c1b298cad09",
   "metadata": {},
   "source": [
    "# 7. Combine results\n",
    "\n",
    "Combine all the results from all classifiers and the subgroups into a single dataframe"
   ]
  },
  {
   "cell_type": "code",
   "execution_count": 210,
   "id": "a9c38761-ad1f-4393-a25d-8e0d921a8a56",
   "metadata": {},
   "outputs": [],
   "source": [
    "import matplotlib.patches as mpatches"
   ]
  },
  {
   "cell_type": "code",
   "execution_count": null,
   "id": "04377694-7039-446e-9740-a23374e449dc",
   "metadata": {},
   "outputs": [],
   "source": [
    "df_results1b"
   ]
  },
  {
   "cell_type": "code",
   "execution_count": 212,
   "id": "c267dede-ee25-4485-9a48-4e4a7005d74d",
   "metadata": {},
   "outputs": [],
   "source": [
    "colour_mapping = dict(zip(['Rule-based', 'Naive Bayes', 'Decision Tree', \n",
    "                           'Random Forest', 'Logistic Regression', 'ClinicalBERT'], \n",
    "                          sns.color_palette('Set2')[:6]))\n",
    "\n",
    "colour_mapping_m = dict(zip(['Rule-based', 'Naive Bayes', 'Decision Tree', \n",
    "                             'Random Forest', 'Logistic Regression', 'ClinicalBERT'], \n",
    "                          sns.color_palette('Paired')[::2]))\n",
    "\n",
    "colour_mapping_f = dict(zip(['Rule-based', 'Naive Bayes', 'Decision Tree', \n",
    "                             'Random Forest', 'Logistic Regression', 'ClinicalBERT'], \n",
    "                          sns.color_palette('Paired')[1::2]))\n",
    "\n",
    "df_results_overall = (\n",
    "    pd.concat([\n",
    "        df_results1b.assign(classifier=\"Rule-based\"),\n",
    "        df_results1.assign(classifier='Naive Bayes'),\n",
    "        df_results2.assign(classifier='Decision Tree'),\n",
    "        df_results3.assign(classifier='Random Forest'),\n",
    "        df_results4.assign(classifier='Logistic Regression'),\n",
    "        df_results5.assign(classifier='ClinicalBERT')\n",
    "    ])\n",
    "    .reset_index()\n",
    "    .rename(columns={'index': 'order'})\n",
    "    .assign(\n",
    "        classifier_num=lambda df_: df_.groupby('classifier').ngroup(),\n",
    "        y_value=lambda df_: df_['order'] + df_['classifier_num'] * 0.16,\n",
    "        colour=lambda df_: df_.classifier.map(colour_mapping)\n",
    "    )\n",
    ")\n",
    "\n",
    "df_results_m = (\n",
    "    pd.concat([\n",
    "        df_results1b_m.assign(classifier='Rule-based'),\n",
    "        df_results1_m.assign(classifier='Naive Bayes'),\n",
    "        df_results2_m.assign(classifier='Decision Tree'),\n",
    "        df_results3_m.assign(classifier='Random Forest'),\n",
    "        df_results4_m.assign(classifier='Logistic Regression'),\n",
    "        df_results5_m.assign(classifier='ClinicalBERT')\n",
    "    ])\n",
    "    .reset_index()\n",
    "    .rename(columns={'index': 'order'})\n",
    "    .assign(\n",
    "        classifier_num=lambda df_: df_.groupby('classifier').ngroup(),\n",
    "        y_value=lambda df_: df_['order'] + df_['classifier_num'] * 0.16,\n",
    "        colour=lambda df_: df_.classifier.map(colour_mapping_m)\n",
    "    )\n",
    ")\n",
    "\n",
    "df_results_f = (\n",
    "    pd.concat([\n",
    "        df_results1b_f.assign(classifier='Rule-based'),\n",
    "        df_results1_f.assign(classifier='Naive Bayes'),\n",
    "        df_results2_f.assign(classifier='Decision Tree'),\n",
    "        df_results3_f.assign(classifier='Random Forest'),\n",
    "        df_results4_f.assign(classifier='Logistic Regression'),\n",
    "        df_results5_f.assign(classifier='ClinicalBERT')\n",
    "    ])\n",
    "    .reset_index()\n",
    "    .rename(columns={'index': 'order'})\n",
    "    .assign(\n",
    "        classifier_num=lambda df_: df_.groupby('classifier').ngroup(),\n",
    "        y_value=lambda df_: df_['order'] + df_['classifier_num'] * 0.16,\n",
    "        colour=lambda df_: df_.classifier.map(colour_mapping_f)\n",
    "    )\n",
    ")"
   ]
  },
  {
   "cell_type": "code",
   "execution_count": 213,
   "id": "55c087f2-11f8-4181-9493-24dee2da40db",
   "metadata": {},
   "outputs": [],
   "source": [
    "df_results_mf = pd.concat([df_results_m.assign(y_value=lambda df_: df_.y_value + 0.05), \n",
    "                           df_results_f]).reset_index().iloc[:, 1:]"
   ]
  },
  {
   "cell_type": "code",
   "execution_count": 239,
   "id": "b8c0f846-2dcc-4274-ac02-e7471d47fc27",
   "metadata": {},
   "outputs": [
    {
     "data": {
      "text/html": [
       "<div>\n",
       "<style scoped>\n",
       "    .dataframe tbody tr th:only-of-type {\n",
       "        vertical-align: middle;\n",
       "    }\n",
       "\n",
       "    .dataframe tbody tr th {\n",
       "        vertical-align: top;\n",
       "    }\n",
       "\n",
       "    .dataframe thead th {\n",
       "        text-align: right;\n",
       "    }\n",
       "</style>\n",
       "<table border=\"1\" class=\"dataframe\">\n",
       "  <thead>\n",
       "    <tr style=\"text-align: right;\">\n",
       "      <th></th>\n",
       "      <th>order</th>\n",
       "      <th>metric</th>\n",
       "      <th>mean</th>\n",
       "      <th>left_ci</th>\n",
       "      <th>right_ci</th>\n",
       "      <th>model</th>\n",
       "      <th>gender</th>\n",
       "      <th>classifier</th>\n",
       "      <th>classifier_num</th>\n",
       "      <th>y_value</th>\n",
       "      <th>colour</th>\n",
       "    </tr>\n",
       "  </thead>\n",
       "  <tbody>\n",
       "    <tr>\n",
       "      <th>0</th>\n",
       "      <td>0</td>\n",
       "      <td>auc</td>\n",
       "      <td>NaN</td>\n",
       "      <td>NaN</td>\n",
       "      <td>NaN</td>\n",
       "      <td>Rule-based</td>\n",
       "      <td>overall</td>\n",
       "      <td>Rule-based</td>\n",
       "      <td>5</td>\n",
       "      <td>0.80</td>\n",
       "      <td>(0.4, 0.7607843137254902, 0.6470588235294118)</td>\n",
       "    </tr>\n",
       "    <tr>\n",
       "      <th>1</th>\n",
       "      <td>1</td>\n",
       "      <td>ppv</td>\n",
       "      <td>0.758060</td>\n",
       "      <td>0.726552</td>\n",
       "      <td>0.788079</td>\n",
       "      <td>Rule-based</td>\n",
       "      <td>overall</td>\n",
       "      <td>Rule-based</td>\n",
       "      <td>5</td>\n",
       "      <td>1.80</td>\n",
       "      <td>(0.4, 0.7607843137254902, 0.6470588235294118)</td>\n",
       "    </tr>\n",
       "    <tr>\n",
       "      <th>2</th>\n",
       "      <td>2</td>\n",
       "      <td>npv</td>\n",
       "      <td>1.000000</td>\n",
       "      <td>1.000000</td>\n",
       "      <td>1.000000</td>\n",
       "      <td>Rule-based</td>\n",
       "      <td>overall</td>\n",
       "      <td>Rule-based</td>\n",
       "      <td>5</td>\n",
       "      <td>2.80</td>\n",
       "      <td>(0.4, 0.7607843137254902, 0.6470588235294118)</td>\n",
       "    </tr>\n",
       "    <tr>\n",
       "      <th>3</th>\n",
       "      <td>3</td>\n",
       "      <td>sensitivity</td>\n",
       "      <td>1.000000</td>\n",
       "      <td>1.000000</td>\n",
       "      <td>1.000000</td>\n",
       "      <td>Rule-based</td>\n",
       "      <td>overall</td>\n",
       "      <td>Rule-based</td>\n",
       "      <td>5</td>\n",
       "      <td>3.80</td>\n",
       "      <td>(0.4, 0.7607843137254902, 0.6470588235294118)</td>\n",
       "    </tr>\n",
       "    <tr>\n",
       "      <th>4</th>\n",
       "      <td>4</td>\n",
       "      <td>specificity</td>\n",
       "      <td>0.070769</td>\n",
       "      <td>0.036697</td>\n",
       "      <td>0.109290</td>\n",
       "      <td>Rule-based</td>\n",
       "      <td>overall</td>\n",
       "      <td>Rule-based</td>\n",
       "      <td>5</td>\n",
       "      <td>4.80</td>\n",
       "      <td>(0.4, 0.7607843137254902, 0.6470588235294118)</td>\n",
       "    </tr>\n",
       "    <tr>\n",
       "      <th>5</th>\n",
       "      <td>0</td>\n",
       "      <td>auc</td>\n",
       "      <td>0.907828</td>\n",
       "      <td>0.884515</td>\n",
       "      <td>0.930083</td>\n",
       "      <td>Naive Bayes</td>\n",
       "      <td>all</td>\n",
       "      <td>Naive Bayes</td>\n",
       "      <td>3</td>\n",
       "      <td>0.48</td>\n",
       "      <td>(0.9882352941176471, 0.5529411764705883, 0.384...</td>\n",
       "    </tr>\n",
       "    <tr>\n",
       "      <th>6</th>\n",
       "      <td>1</td>\n",
       "      <td>ppv</td>\n",
       "      <td>0.863598</td>\n",
       "      <td>0.836538</td>\n",
       "      <td>0.889764</td>\n",
       "      <td>Naive Bayes</td>\n",
       "      <td>all</td>\n",
       "      <td>Naive Bayes</td>\n",
       "      <td>3</td>\n",
       "      <td>1.48</td>\n",
       "      <td>(0.9882352941176471, 0.5529411764705883, 0.384...</td>\n",
       "    </tr>\n",
       "    <tr>\n",
       "      <th>7</th>\n",
       "      <td>2</td>\n",
       "      <td>npv</td>\n",
       "      <td>0.833486</td>\n",
       "      <td>0.765957</td>\n",
       "      <td>0.893617</td>\n",
       "      <td>Naive Bayes</td>\n",
       "      <td>all</td>\n",
       "      <td>Naive Bayes</td>\n",
       "      <td>3</td>\n",
       "      <td>2.48</td>\n",
       "      <td>(0.9882352941176471, 0.5529411764705883, 0.384...</td>\n",
       "    </tr>\n",
       "    <tr>\n",
       "      <th>8</th>\n",
       "      <td>3</td>\n",
       "      <td>sensitivity</td>\n",
       "      <td>0.961327</td>\n",
       "      <td>0.943958</td>\n",
       "      <td>0.975779</td>\n",
       "      <td>Naive Bayes</td>\n",
       "      <td>all</td>\n",
       "      <td>Naive Bayes</td>\n",
       "      <td>3</td>\n",
       "      <td>3.48</td>\n",
       "      <td>(0.9882352941176471, 0.5529411764705883, 0.384...</td>\n",
       "    </tr>\n",
       "    <tr>\n",
       "      <th>9</th>\n",
       "      <td>4</td>\n",
       "      <td>specificity</td>\n",
       "      <td>0.560279</td>\n",
       "      <td>0.486631</td>\n",
       "      <td>0.629213</td>\n",
       "      <td>Naive Bayes</td>\n",
       "      <td>all</td>\n",
       "      <td>Naive Bayes</td>\n",
       "      <td>3</td>\n",
       "      <td>4.48</td>\n",
       "      <td>(0.9882352941176471, 0.5529411764705883, 0.384...</td>\n",
       "    </tr>\n",
       "    <tr>\n",
       "      <th>10</th>\n",
       "      <td>0</td>\n",
       "      <td>auc</td>\n",
       "      <td>0.807186</td>\n",
       "      <td>0.771303</td>\n",
       "      <td>0.843187</td>\n",
       "      <td>Decision Tree</td>\n",
       "      <td>all</td>\n",
       "      <td>Decision Tree</td>\n",
       "      <td>1</td>\n",
       "      <td>0.16</td>\n",
       "      <td>(0.5529411764705883, 0.6274509803921569, 0.796...</td>\n",
       "    </tr>\n",
       "    <tr>\n",
       "      <th>11</th>\n",
       "      <td>1</td>\n",
       "      <td>ppv</td>\n",
       "      <td>0.875631</td>\n",
       "      <td>0.847430</td>\n",
       "      <td>0.900000</td>\n",
       "      <td>Decision Tree</td>\n",
       "      <td>all</td>\n",
       "      <td>Decision Tree</td>\n",
       "      <td>1</td>\n",
       "      <td>1.16</td>\n",
       "      <td>(0.5529411764705883, 0.6274509803921569, 0.796...</td>\n",
       "    </tr>\n",
       "    <tr>\n",
       "      <th>12</th>\n",
       "      <td>2</td>\n",
       "      <td>npv</td>\n",
       "      <td>0.783424</td>\n",
       "      <td>0.717241</td>\n",
       "      <td>0.846626</td>\n",
       "      <td>Decision Tree</td>\n",
       "      <td>all</td>\n",
       "      <td>Decision Tree</td>\n",
       "      <td>1</td>\n",
       "      <td>2.16</td>\n",
       "      <td>(0.5529411764705883, 0.6274509803921569, 0.796...</td>\n",
       "    </tr>\n",
       "    <tr>\n",
       "      <th>13</th>\n",
       "      <td>3</td>\n",
       "      <td>sensitivity</td>\n",
       "      <td>0.942437</td>\n",
       "      <td>0.923351</td>\n",
       "      <td>0.960616</td>\n",
       "      <td>Decision Tree</td>\n",
       "      <td>all</td>\n",
       "      <td>Decision Tree</td>\n",
       "      <td>1</td>\n",
       "      <td>3.16</td>\n",
       "      <td>(0.5529411764705883, 0.6274509803921569, 0.796...</td>\n",
       "    </tr>\n",
       "    <tr>\n",
       "      <th>14</th>\n",
       "      <td>4</td>\n",
       "      <td>specificity</td>\n",
       "      <td>0.608763</td>\n",
       "      <td>0.537688</td>\n",
       "      <td>0.677083</td>\n",
       "      <td>Decision Tree</td>\n",
       "      <td>all</td>\n",
       "      <td>Decision Tree</td>\n",
       "      <td>1</td>\n",
       "      <td>4.16</td>\n",
       "      <td>(0.5529411764705883, 0.6274509803921569, 0.796...</td>\n",
       "    </tr>\n",
       "    <tr>\n",
       "      <th>15</th>\n",
       "      <td>0</td>\n",
       "      <td>auc</td>\n",
       "      <td>0.887589</td>\n",
       "      <td>0.856346</td>\n",
       "      <td>0.917107</td>\n",
       "      <td>RandomForest</td>\n",
       "      <td>all</td>\n",
       "      <td>Random Forest</td>\n",
       "      <td>4</td>\n",
       "      <td>0.64</td>\n",
       "      <td>(0.9058823529411765, 0.5411764705882353, 0.764...</td>\n",
       "    </tr>\n",
       "    <tr>\n",
       "      <th>16</th>\n",
       "      <td>1</td>\n",
       "      <td>ppv</td>\n",
       "      <td>0.869844</td>\n",
       "      <td>0.844237</td>\n",
       "      <td>0.894737</td>\n",
       "      <td>RandomForest</td>\n",
       "      <td>all</td>\n",
       "      <td>Random Forest</td>\n",
       "      <td>4</td>\n",
       "      <td>1.64</td>\n",
       "      <td>(0.9058823529411765, 0.5411764705882353, 0.764...</td>\n",
       "    </tr>\n",
       "    <tr>\n",
       "      <th>17</th>\n",
       "      <td>2</td>\n",
       "      <td>npv</td>\n",
       "      <td>0.863901</td>\n",
       "      <td>0.803150</td>\n",
       "      <td>0.915385</td>\n",
       "      <td>RandomForest</td>\n",
       "      <td>all</td>\n",
       "      <td>Random Forest</td>\n",
       "      <td>4</td>\n",
       "      <td>2.64</td>\n",
       "      <td>(0.9058823529411765, 0.5411764705882353, 0.764...</td>\n",
       "    </tr>\n",
       "    <tr>\n",
       "      <th>18</th>\n",
       "      <td>3</td>\n",
       "      <td>sensitivity</td>\n",
       "      <td>0.968560</td>\n",
       "      <td>0.953237</td>\n",
       "      <td>0.981605</td>\n",
       "      <td>RandomForest</td>\n",
       "      <td>all</td>\n",
       "      <td>Random Forest</td>\n",
       "      <td>4</td>\n",
       "      <td>3.64</td>\n",
       "      <td>(0.9058823529411765, 0.5411764705882353, 0.764...</td>\n",
       "    </tr>\n",
       "    <tr>\n",
       "      <th>19</th>\n",
       "      <td>4</td>\n",
       "      <td>specificity</td>\n",
       "      <td>0.578838</td>\n",
       "      <td>0.510917</td>\n",
       "      <td>0.644231</td>\n",
       "      <td>RandomForest</td>\n",
       "      <td>all</td>\n",
       "      <td>Random Forest</td>\n",
       "      <td>4</td>\n",
       "      <td>4.64</td>\n",
       "      <td>(0.9058823529411765, 0.5411764705882353, 0.764...</td>\n",
       "    </tr>\n",
       "    <tr>\n",
       "      <th>20</th>\n",
       "      <td>0</td>\n",
       "      <td>auc</td>\n",
       "      <td>0.868689</td>\n",
       "      <td>0.838176</td>\n",
       "      <td>0.897949</td>\n",
       "      <td>Logistic Regression</td>\n",
       "      <td>all</td>\n",
       "      <td>Logistic Regression</td>\n",
       "      <td>2</td>\n",
       "      <td>0.32</td>\n",
       "      <td>(0.6509803921568628, 0.8470588235294118, 0.329...</td>\n",
       "    </tr>\n",
       "    <tr>\n",
       "      <th>21</th>\n",
       "      <td>1</td>\n",
       "      <td>ppv</td>\n",
       "      <td>0.854968</td>\n",
       "      <td>0.827957</td>\n",
       "      <td>0.883077</td>\n",
       "      <td>Logistic Regression</td>\n",
       "      <td>all</td>\n",
       "      <td>Logistic Regression</td>\n",
       "      <td>2</td>\n",
       "      <td>1.32</td>\n",
       "      <td>(0.6509803921568628, 0.8470588235294118, 0.329...</td>\n",
       "    </tr>\n",
       "    <tr>\n",
       "      <th>22</th>\n",
       "      <td>2</td>\n",
       "      <td>npv</td>\n",
       "      <td>0.816926</td>\n",
       "      <td>0.747826</td>\n",
       "      <td>0.880952</td>\n",
       "      <td>Logistic Regression</td>\n",
       "      <td>all</td>\n",
       "      <td>Logistic Regression</td>\n",
       "      <td>2</td>\n",
       "      <td>2.32</td>\n",
       "      <td>(0.6509803921568628, 0.8470588235294118, 0.329...</td>\n",
       "    </tr>\n",
       "    <tr>\n",
       "      <th>23</th>\n",
       "      <td>3</td>\n",
       "      <td>sensitivity</td>\n",
       "      <td>0.959887</td>\n",
       "      <td>0.942708</td>\n",
       "      <td>0.975652</td>\n",
       "      <td>Logistic Regression</td>\n",
       "      <td>all</td>\n",
       "      <td>Logistic Regression</td>\n",
       "      <td>2</td>\n",
       "      <td>3.32</td>\n",
       "      <td>(0.6509803921568628, 0.8470588235294118, 0.329...</td>\n",
       "    </tr>\n",
       "    <tr>\n",
       "      <th>24</th>\n",
       "      <td>4</td>\n",
       "      <td>specificity</td>\n",
       "      <td>0.523415</td>\n",
       "      <td>0.448598</td>\n",
       "      <td>0.593301</td>\n",
       "      <td>Logistic Regression</td>\n",
       "      <td>all</td>\n",
       "      <td>Logistic Regression</td>\n",
       "      <td>2</td>\n",
       "      <td>4.32</td>\n",
       "      <td>(0.6509803921568628, 0.8470588235294118, 0.329...</td>\n",
       "    </tr>\n",
       "    <tr>\n",
       "      <th>25</th>\n",
       "      <td>0</td>\n",
       "      <td>auc</td>\n",
       "      <td>0.932314</td>\n",
       "      <td>0.911777</td>\n",
       "      <td>0.951858</td>\n",
       "      <td>ClinicalBERT</td>\n",
       "      <td>all</td>\n",
       "      <td>ClinicalBERT</td>\n",
       "      <td>0</td>\n",
       "      <td>0.00</td>\n",
       "      <td>(1.0, 0.8509803921568627, 0.1843137254901961)</td>\n",
       "    </tr>\n",
       "    <tr>\n",
       "      <th>26</th>\n",
       "      <td>1</td>\n",
       "      <td>ppv</td>\n",
       "      <td>0.864258</td>\n",
       "      <td>0.837800</td>\n",
       "      <td>0.888889</td>\n",
       "      <td>ClinicalBERT</td>\n",
       "      <td>all</td>\n",
       "      <td>ClinicalBERT</td>\n",
       "      <td>0</td>\n",
       "      <td>1.00</td>\n",
       "      <td>(1.0, 0.8509803921568627, 0.1843137254901961)</td>\n",
       "    </tr>\n",
       "    <tr>\n",
       "      <th>27</th>\n",
       "      <td>2</td>\n",
       "      <td>npv</td>\n",
       "      <td>0.912349</td>\n",
       "      <td>0.857143</td>\n",
       "      <td>0.958904</td>\n",
       "      <td>ClinicalBERT</td>\n",
       "      <td>all</td>\n",
       "      <td>ClinicalBERT</td>\n",
       "      <td>0</td>\n",
       "      <td>2.00</td>\n",
       "      <td>(1.0, 0.8509803921568627, 0.1843137254901961)</td>\n",
       "    </tr>\n",
       "    <tr>\n",
       "      <th>28</th>\n",
       "      <td>3</td>\n",
       "      <td>sensitivity</td>\n",
       "      <td>0.982139</td>\n",
       "      <td>0.970443</td>\n",
       "      <td>0.991896</td>\n",
       "      <td>ClinicalBERT</td>\n",
       "      <td>all</td>\n",
       "      <td>ClinicalBERT</td>\n",
       "      <td>0</td>\n",
       "      <td>3.00</td>\n",
       "      <td>(1.0, 0.8509803921568627, 0.1843137254901961)</td>\n",
       "    </tr>\n",
       "    <tr>\n",
       "      <th>29</th>\n",
       "      <td>4</td>\n",
       "      <td>specificity</td>\n",
       "      <td>0.546767</td>\n",
       "      <td>0.484305</td>\n",
       "      <td>0.609137</td>\n",
       "      <td>ClinicalBERT</td>\n",
       "      <td>all</td>\n",
       "      <td>ClinicalBERT</td>\n",
       "      <td>0</td>\n",
       "      <td>4.00</td>\n",
       "      <td>(1.0, 0.8509803921568627, 0.1843137254901961)</td>\n",
       "    </tr>\n",
       "  </tbody>\n",
       "</table>\n",
       "</div>"
      ],
      "text/plain": [
       "    order       metric      mean   left_ci  right_ci                model  \\\n",
       "0       0          auc       NaN       NaN       NaN           Rule-based   \n",
       "1       1          ppv  0.758060  0.726552  0.788079           Rule-based   \n",
       "2       2          npv  1.000000  1.000000  1.000000           Rule-based   \n",
       "3       3  sensitivity  1.000000  1.000000  1.000000           Rule-based   \n",
       "4       4  specificity  0.070769  0.036697  0.109290           Rule-based   \n",
       "5       0          auc  0.907828  0.884515  0.930083          Naive Bayes   \n",
       "6       1          ppv  0.863598  0.836538  0.889764          Naive Bayes   \n",
       "7       2          npv  0.833486  0.765957  0.893617          Naive Bayes   \n",
       "8       3  sensitivity  0.961327  0.943958  0.975779          Naive Bayes   \n",
       "9       4  specificity  0.560279  0.486631  0.629213          Naive Bayes   \n",
       "10      0          auc  0.807186  0.771303  0.843187        Decision Tree   \n",
       "11      1          ppv  0.875631  0.847430  0.900000        Decision Tree   \n",
       "12      2          npv  0.783424  0.717241  0.846626        Decision Tree   \n",
       "13      3  sensitivity  0.942437  0.923351  0.960616        Decision Tree   \n",
       "14      4  specificity  0.608763  0.537688  0.677083        Decision Tree   \n",
       "15      0          auc  0.887589  0.856346  0.917107         RandomForest   \n",
       "16      1          ppv  0.869844  0.844237  0.894737         RandomForest   \n",
       "17      2          npv  0.863901  0.803150  0.915385         RandomForest   \n",
       "18      3  sensitivity  0.968560  0.953237  0.981605         RandomForest   \n",
       "19      4  specificity  0.578838  0.510917  0.644231         RandomForest   \n",
       "20      0          auc  0.868689  0.838176  0.897949  Logistic Regression   \n",
       "21      1          ppv  0.854968  0.827957  0.883077  Logistic Regression   \n",
       "22      2          npv  0.816926  0.747826  0.880952  Logistic Regression   \n",
       "23      3  sensitivity  0.959887  0.942708  0.975652  Logistic Regression   \n",
       "24      4  specificity  0.523415  0.448598  0.593301  Logistic Regression   \n",
       "25      0          auc  0.932314  0.911777  0.951858         ClinicalBERT   \n",
       "26      1          ppv  0.864258  0.837800  0.888889         ClinicalBERT   \n",
       "27      2          npv  0.912349  0.857143  0.958904         ClinicalBERT   \n",
       "28      3  sensitivity  0.982139  0.970443  0.991896         ClinicalBERT   \n",
       "29      4  specificity  0.546767  0.484305  0.609137         ClinicalBERT   \n",
       "\n",
       "     gender           classifier  classifier_num  y_value  \\\n",
       "0   overall           Rule-based               5     0.80   \n",
       "1   overall           Rule-based               5     1.80   \n",
       "2   overall           Rule-based               5     2.80   \n",
       "3   overall           Rule-based               5     3.80   \n",
       "4   overall           Rule-based               5     4.80   \n",
       "5       all          Naive Bayes               3     0.48   \n",
       "6       all          Naive Bayes               3     1.48   \n",
       "7       all          Naive Bayes               3     2.48   \n",
       "8       all          Naive Bayes               3     3.48   \n",
       "9       all          Naive Bayes               3     4.48   \n",
       "10      all        Decision Tree               1     0.16   \n",
       "11      all        Decision Tree               1     1.16   \n",
       "12      all        Decision Tree               1     2.16   \n",
       "13      all        Decision Tree               1     3.16   \n",
       "14      all        Decision Tree               1     4.16   \n",
       "15      all        Random Forest               4     0.64   \n",
       "16      all        Random Forest               4     1.64   \n",
       "17      all        Random Forest               4     2.64   \n",
       "18      all        Random Forest               4     3.64   \n",
       "19      all        Random Forest               4     4.64   \n",
       "20      all  Logistic Regression               2     0.32   \n",
       "21      all  Logistic Regression               2     1.32   \n",
       "22      all  Logistic Regression               2     2.32   \n",
       "23      all  Logistic Regression               2     3.32   \n",
       "24      all  Logistic Regression               2     4.32   \n",
       "25      all         ClinicalBERT               0     0.00   \n",
       "26      all         ClinicalBERT               0     1.00   \n",
       "27      all         ClinicalBERT               0     2.00   \n",
       "28      all         ClinicalBERT               0     3.00   \n",
       "29      all         ClinicalBERT               0     4.00   \n",
       "\n",
       "                                               colour  \n",
       "0       (0.4, 0.7607843137254902, 0.6470588235294118)  \n",
       "1       (0.4, 0.7607843137254902, 0.6470588235294118)  \n",
       "2       (0.4, 0.7607843137254902, 0.6470588235294118)  \n",
       "3       (0.4, 0.7607843137254902, 0.6470588235294118)  \n",
       "4       (0.4, 0.7607843137254902, 0.6470588235294118)  \n",
       "5   (0.9882352941176471, 0.5529411764705883, 0.384...  \n",
       "6   (0.9882352941176471, 0.5529411764705883, 0.384...  \n",
       "7   (0.9882352941176471, 0.5529411764705883, 0.384...  \n",
       "8   (0.9882352941176471, 0.5529411764705883, 0.384...  \n",
       "9   (0.9882352941176471, 0.5529411764705883, 0.384...  \n",
       "10  (0.5529411764705883, 0.6274509803921569, 0.796...  \n",
       "11  (0.5529411764705883, 0.6274509803921569, 0.796...  \n",
       "12  (0.5529411764705883, 0.6274509803921569, 0.796...  \n",
       "13  (0.5529411764705883, 0.6274509803921569, 0.796...  \n",
       "14  (0.5529411764705883, 0.6274509803921569, 0.796...  \n",
       "15  (0.9058823529411765, 0.5411764705882353, 0.764...  \n",
       "16  (0.9058823529411765, 0.5411764705882353, 0.764...  \n",
       "17  (0.9058823529411765, 0.5411764705882353, 0.764...  \n",
       "18  (0.9058823529411765, 0.5411764705882353, 0.764...  \n",
       "19  (0.9058823529411765, 0.5411764705882353, 0.764...  \n",
       "20  (0.6509803921568628, 0.8470588235294118, 0.329...  \n",
       "21  (0.6509803921568628, 0.8470588235294118, 0.329...  \n",
       "22  (0.6509803921568628, 0.8470588235294118, 0.329...  \n",
       "23  (0.6509803921568628, 0.8470588235294118, 0.329...  \n",
       "24  (0.6509803921568628, 0.8470588235294118, 0.329...  \n",
       "25      (1.0, 0.8509803921568627, 0.1843137254901961)  \n",
       "26      (1.0, 0.8509803921568627, 0.1843137254901961)  \n",
       "27      (1.0, 0.8509803921568627, 0.1843137254901961)  \n",
       "28      (1.0, 0.8509803921568627, 0.1843137254901961)  \n",
       "29      (1.0, 0.8509803921568627, 0.1843137254901961)  "
      ]
     },
     "execution_count": 239,
     "metadata": {},
     "output_type": "execute_result"
    }
   ],
   "source": [
    "df_results_overall"
   ]
  },
  {
   "cell_type": "markdown",
   "id": "9282f25b-6d78-4a2a-9be8-f47c2ad29d9d",
   "metadata": {},
   "source": [
    "# 8. Create data visualisations"
   ]
  },
  {
   "cell_type": "markdown",
   "id": "9e813119-6f3d-4731-968a-bb08b5ac2be6",
   "metadata": {},
   "source": [
    "## 8.1. ROC curves"
   ]
  },
  {
   "cell_type": "code",
   "execution_count": 214,
   "id": "a6045c62-aff9-42d1-8dc1-805abe4f911c",
   "metadata": {},
   "outputs": [
    {
     "data": {
      "image/png": "[encoded data removed]",
      "text/plain": [
       "<Figure size 600x400 with 1 Axes>"
      ]
     },
     "metadata": {},
     "output_type": "display_data"
    }
   ],
   "source": [
    "# plot all the roc curves\n",
    "sns.set_style('white')\n",
    "plt.figure(figsize=(6, 4))\n",
    "plt.title(\"ROC Curves and corresponding AUC\\n(All patients)\")\n",
    "plt.plot(fpr1, tpr1, c=colour_mapping['Naive Bayes'], label=f'Naive Bayes: {roc_auc1:.2f}')\n",
    "plt.plot(fpr2, tpr2, c=colour_mapping['Decision Tree'], label=f'Decision Tree: {roc_auc2:.2f}')\n",
    "plt.plot(fpr3, tpr3, c=colour_mapping['Random Forest'], label=f'Random Forest: {roc_auc3:.2f}')\n",
    "plt.plot(fpr4, tpr4, c=colour_mapping['Logistic Regression'], label=f'Logistic Regression: {roc_auc4:.2f}')\n",
    "plt.plot(fpr5, tpr5, c=colour_mapping['ClinicalBERT'], label=f'ClinicalBERT: {roc_auc5:.2f}')\n",
    "plt.legend()\n",
    "plt.tight_layout()\n",
    "plt.savefig('../outputs/210625/roc_curves_all.png')\n",
    "plt.show()"
   ]
  },
  {
   "cell_type": "code",
   "execution_count": 215,
   "id": "84870f3c-79ab-44e9-a88b-60e6919ffaa7",
   "metadata": {},
   "outputs": [
    {
     "data": {
      "image/png": "[encoded data removed]",
      "text/plain": [
       "<Figure size 600x400 with 1 Axes>"
      ]
     },
     "metadata": {},
     "output_type": "display_data"
    }
   ],
   "source": [
    "# plot all the roc curves\n",
    "plt.figure(figsize=(6, 4))\n",
    "plt.title(\"ROC Curves and corresponding AUC\\n(Female patients)\")\n",
    "plt.plot(fpr1_f, tpr1_f, c=colour_mapping['Naive Bayes'], label=f'Naive Bayes: {roc_auc1_f:.2f}')\n",
    "plt.plot(fpr2_f, tpr2_f, c=colour_mapping['Decision Tree'], label=f'Decision Tree: {roc_auc2_f:.2f}')\n",
    "plt.plot(fpr3_f, tpr3_f, c=colour_mapping['Random Forest'], label=f'Random Forest: {roc_auc3_f:.2f}')\n",
    "plt.plot(fpr4_f, tpr4_f, c=colour_mapping['Logistic Regression'], label=f'Logistic Regression: {roc_auc4_f:.2f}')\n",
    "plt.plot(fpr5_f, tpr5_f, c=colour_mapping['ClinicalBERT'], label=f'ClinicalBERT: {roc_auc5_f:.2f}')\n",
    "plt.legend()\n",
    "plt.tight_layout()\n",
    "plt.savefig('../outputs/210625/roc_curves_f.png')\n",
    "plt.show()"
   ]
  },
  {
   "cell_type": "code",
   "execution_count": 216,
   "id": "63d8e30e-3b4a-4a82-bfa1-5a48fc6f64ff",
   "metadata": {},
   "outputs": [
    {
     "data": {
      "image/png": "[encoded data removed]",
      "text/plain": [
       "<Figure size 600x400 with 1 Axes>"
      ]
     },
     "metadata": {},
     "output_type": "display_data"
    }
   ],
   "source": [
    "# plot all the roc curves\n",
    "plt.figure(figsize=(6, 4))\n",
    "plt.title(\"ROC Curves and corresponding AUC\\n(Male patients)\")\n",
    "plt.plot(fpr1_m, tpr1_m, c=colour_mapping['Naive Bayes'], label=f'Naive Bayes: {roc_auc1_m:.2f}')\n",
    "plt.plot(fpr2_m, tpr2_m, c=colour_mapping['Decision Tree'], label=f'Decision Tree: {roc_auc2_m:.2f}')\n",
    "plt.plot(fpr3_m, tpr3_m, c=colour_mapping['Random Forest'], label=f'Random Forest: {roc_auc3_m:.2f}')\n",
    "plt.plot(fpr4_m, tpr4_m, c=colour_mapping['Logistic Regression'], label=f'Logistic Regression: {roc_auc4_m:.2f}')\n",
    "plt.plot(fpr5_m, tpr5_m, c=colour_mapping['ClinicalBERT'], label=f'ClinicalBERT: {roc_auc5_m:.2f}')\n",
    "plt.legend()\n",
    "plt.tight_layout()\n",
    "plt.savefig('../outputs/210625/roc_curves_m.png')\n",
    "plt.show()"
   ]
  },
  {
   "cell_type": "markdown",
   "id": "92496bca-3e52-474f-b137-c95b84abae7e",
   "metadata": {},
   "source": [
    "## 8.2. Overall stats for all classifiers\n",
    "\n",
    "### 8.2.1. Both genders"
   ]
  },
  {
   "cell_type": "code",
   "execution_count": 217,
   "id": "1b7905ed-7a7a-4022-8658-8d985d1866ed",
   "metadata": {},
   "outputs": [],
   "source": [
    "classifier_order = {'Naive Bayes': 2, \n",
    "                    'Random Forest': 1, \n",
    "                    'Logistic Regression': 3, \n",
    "                    'Decision Tree': 4, \n",
    "                    'ClinicalBERT': 5,\n",
    "                    'Rule-based': 0}\n",
    "\n",
    "ordered_colour_values = (\n",
    "    df_results_overall[['classifier', 'colour']]\n",
    "    .drop_duplicates()\n",
    "    .reset_index()\n",
    "    .iloc[:, 1:]\n",
    "    .assign(classifier_order=lambda df_: df_.classifier.map(classifier_order))\n",
    "    .sort_values(by='classifier_order')\n",
    "    .loc[:, ['classifier', 'colour']]\n",
    "    .values\n",
    ")"
   ]
  },
  {
   "cell_type": "code",
   "execution_count": 218,
   "id": "3c006aa8-5f2f-4d92-9d4f-7ff09b8c7290",
   "metadata": {},
   "outputs": [
    {
     "name": "stderr",
     "output_type": "stream",
     "text": [
      "/var/folders/7h/4cq59zrd6vb2jqwxh3wdk3nw0000gn/T/ipykernel_87171/1825401030.py:14: UserWarning: set_ticklabels() should only be used with a fixed number of ticks, i.e. after set_ticks() or using a FixedLocator.\n",
      "  ax.set_yticklabels(['AUC', 'PPV', 'NPV', 'Sensitivity', 'Specificity'])\n"
     ]
    },
    {
     "data": {
      "image/png": "[encoded data removed]",
      "text/plain": [
       "<Figure size 600x700 with 1 Axes>"
      ]
     },
     "metadata": {},
     "output_type": "display_data"
    }
   ],
   "source": [
    "# Set plot style\n",
    "sns.set(style='white')\n",
    "\n",
    "# Create figure and axis\n",
    "fig, ax = plt.subplots(figsize=(6, 7))\n",
    "\n",
    "# Loop through each row to plot\n",
    "for i, row in df_results_overall.iterrows():\n",
    "    ax.plot([row['left_ci'], row['right_ci']], [row['y_value']] * 2, color=row['colour'], lw=2)\n",
    "    ax.plot(row['mean'], row['y_value'], 'd', color=row['colour'])\n",
    "\n",
    "# Optional: aesthetics\n",
    "ax.set_xlabel('Score')\n",
    "ax.set_yticklabels(['AUC', 'PPV', 'NPV', 'Sensitivity', 'Specificity'])\n",
    "ax.set_yticks([0.4, 1.3, 2.3, 3.2, 4.2])\n",
    "ax.set_xlim(0, 1)\n",
    "ax.set_title('Mean and 95% CI for four classifiers')\n",
    "\n",
    "legend_elements = [\n",
    "    mpatches.Patch(color=color, label=clf)\n",
    "    for clf, color in ordered_colour_values\n",
    "]\n",
    "ax.legend(handles=legend_elements, title='Classifier')\n",
    "\n",
    "handles, labels = ax.get_legend_handles_labels()\n",
    "\n",
    "plt.tight_layout()\n",
    "plt.savefig('../outputs/210625/performance_stats_overall_210625.png')"
   ]
  },
  {
   "cell_type": "markdown",
   "id": "639b7fa1-1d53-496f-b358-516ebb583ac0",
   "metadata": {},
   "source": [
    "### 8.2.2. For male and female separately"
   ]
  },
  {
   "cell_type": "code",
   "execution_count": null,
   "id": "eac6b979-cdea-4cae-a73f-3f8bbc49d0e3",
   "metadata": {},
   "outputs": [],
   "source": [
    "classifier_order = {'Naive Bayes': 2, \n",
    "                    'Random Forest': 1, \n",
    "                    'Logistic Regression': 3, \n",
    "                    'Decision Tree': 4, \n",
    "                    'ClinicalBERT': 5,\n",
    "                    'Rule-based': 0}\n",
    "\n",
    "ordered_colour_values = (\n",
    "    df_results_f[['classifier', 'colour']]\n",
    "    .drop_duplicates()\n",
    "    .reset_index()\n",
    "    .iloc[:, 1:]\n",
    "    .assign(classifier_order=lambda df_: df_.classifier.map(classifier_order))\n",
    "    .sort_values(by='classifier_order')\n",
    "    .loc[:, ['classifier', 'colour']]\n",
    "    .values\n",
    ")"
   ]
  },
  {
   "cell_type": "code",
   "execution_count": null,
   "id": "80be3fbe-c1b9-435d-9072-dc76e81ccfeb",
   "metadata": {},
   "outputs": [],
   "source": [
    "# Set plot style\n",
    "sns.set(style='white')\n",
    "\n",
    "# Create figure and axis\n",
    "fig, ax = plt.subplots(figsize=(6, 9))\n",
    "\n",
    "# Loop through each row to plot\n",
    "for i, row in df_results_mf.iterrows():\n",
    "    ax.plot([row['left_ci'], row['right_ci']], [row['y_value']] * 2, color=row['colour'], lw=2)\n",
    "    ax.plot(row['mean'], row['y_value'], 'd', color=row['colour'])\n",
    "\n",
    "# Optional: aesthetics\n",
    "ax.set_xlabel('Score')\n",
    "ax.set_yticklabels(['AUC', 'PPV', 'NPV', 'Sensitivity', 'Specificity'])\n",
    "ax.set_yticks([0.4, 1.3, 2.3, 3.2, 4.2])\n",
    "ax.set_xlim(0, 1)\n",
    "ax.set_title('Mean and 95% CI for four classifiers\\n(Lighter colours for males)')\n",
    "\n",
    "legend_elements = [\n",
    "    mpatches.Patch(color=color, label=clf)\n",
    "    for clf, color in ordered_colour_values\n",
    "]\n",
    "ax.legend(handles=legend_elements, title='Classifier')\n",
    "\n",
    "handles, labels = ax.get_legend_handles_labels()\n",
    "\n",
    "plt.tight_layout()\n",
    "plt.savefig('../outputs/210625/performance_stats_male_female_090625.png')"
   ]
  }
 ],
 "metadata": {
  "kernelspec": {
   "display_name": "uwl",
   "language": "python",
   "name": "uwl"
  },
  "language_info": {
   "codemirror_mode": {
    "name": "ipython",
    "version": 3
   },
   "file_extension": ".py",
   "mimetype": "text/x-python",
   "name": "python",
   "nbconvert_exporter": "python",
   "pygments_lexer": "ipython3",
   "version": "3.13.2"
  }
 },
 "nbformat": 4,
 "nbformat_minor": 5
}
